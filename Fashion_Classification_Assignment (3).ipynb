{
  "cells": [
    {
      "cell_type": "markdown",
      "metadata": {
        "id": "vTQ4K5IaObfX"
      },
      "source": [
        "# 0:  Loading the MNIST fashion data set\n",
        "\n",
        "It is already split out into a train and test set,  but the X and y values (label or target) are in single file\n"
      ]
    },
    {
      "cell_type": "markdown",
      "metadata": {
        "id": "6uzRnx_dObfZ"
      },
      "source": [
        "I'm going to get you started here a bit,  but pay attention to how I load the data here and the data formats used.\n",
        "\n",
        "This data came as two csv files, with the filenames as shown\n",
        "\n",
        "I got the data files from kaggle.com,  this data set is widely distributed\n",
        "\n",
        "I loaded this as a pandas data frame,  this is a relatively reliable, easy data frame to use\n",
        "\n",
        "I think this file has a header\n",
        "\n",
        "See\n",
        "\n",
        "https://www.kaggle.com/zalando-research/fashionmnist\n"
      ]
    },
    {
      "cell_type": "markdown",
      "metadata": {
        "id": "Kp-eF2bOObfZ"
      },
      "source": [
        "# load the pandas and numpy libraries\n",
        "used for the data frame tools (Pandas) and to define matrices and do linear algebra (Numpy)"
      ]
    },
    {
      "cell_type": "code",
      "execution_count": null,
      "metadata": {
        "tags": [],
        "id": "1y4t0W_KObfa"
      },
      "outputs": [],
      "source": [
        "import pandas as pd\n",
        "import numpy as np"
      ]
    },
    {
      "cell_type": "markdown",
      "metadata": {
        "id": "Ry5Mf9dQObfa"
      },
      "source": [
        "The next steps load the test and training data into pandas data frames\n",
        "\n",
        "Pandas has a dataframe structure much like the R dataframe, or an SQL table\n",
        "\n",
        "There are many pandas member functions that do useful operations on the data frame,  here the\n",
        "read_csv() member function is used to load csv files into data frames.\n",
        "\n",
        "The infile style variables need to have the full path name to the location of the data files\n",
        "in us"
      ]
    },
    {
      "cell_type": "code",
      "execution_count": null,
      "metadata": {
        "tags": [],
        "id": "N26QIWvxObfa"
      },
      "outputs": [],
      "source": [
        "train_infile=\"fashion-mnist_train.csv\"\n",
        "\n",
        "test_infile=\"fashion-mnist_test.csv\"\n",
        "\n",
        "train_df=pd.read_csv(train_infile)\n",
        "\n",
        "test_df=pd.read_csv(test_infile)"
      ]
    },
    {
      "cell_type": "markdown",
      "metadata": {
        "id": "kDjCrg__Obfb"
      },
      "source": [
        "Let's look at the available member function for a pandas data frame"
      ]
    },
    {
      "cell_type": "code",
      "execution_count": null,
      "metadata": {
        "tags": [],
        "colab": {
          "base_uri": "https://localhost:8080/"
        },
        "id": "3cwIRmgbObfb",
        "outputId": "848a58b1-5b18-41f9-b2bd-6b733cbf0a12"
      },
      "outputs": [
        {
          "output_type": "execute_result",
          "data": {
            "text/plain": [
              "['T',\n",
              " '_AXIS_LEN',\n",
              " '_AXIS_ORDERS',\n",
              " '_AXIS_TO_AXIS_NUMBER',\n",
              " '_HANDLED_TYPES',\n",
              " '__abs__',\n",
              " '__add__',\n",
              " '__and__',\n",
              " '__annotations__',\n",
              " '__array__',\n",
              " '__array_priority__',\n",
              " '__array_ufunc__',\n",
              " '__array_wrap__',\n",
              " '__bool__',\n",
              " '__class__',\n",
              " '__contains__',\n",
              " '__copy__',\n",
              " '__dataframe__',\n",
              " '__deepcopy__',\n",
              " '__delattr__',\n",
              " '__delitem__',\n",
              " '__dict__',\n",
              " '__dir__',\n",
              " '__divmod__',\n",
              " '__doc__',\n",
              " '__eq__',\n",
              " '__finalize__',\n",
              " '__floordiv__',\n",
              " '__format__',\n",
              " '__ge__',\n",
              " '__getattr__',\n",
              " '__getattribute__',\n",
              " '__getitem__',\n",
              " '__getstate__',\n",
              " '__gt__',\n",
              " '__hash__',\n",
              " '__iadd__',\n",
              " '__iand__',\n",
              " '__ifloordiv__',\n",
              " '__imod__',\n",
              " '__imul__',\n",
              " '__init__',\n",
              " '__init_subclass__',\n",
              " '__invert__',\n",
              " '__ior__',\n",
              " '__ipow__',\n",
              " '__isub__',\n",
              " '__iter__',\n",
              " '__itruediv__',\n",
              " '__ixor__',\n",
              " '__le__',\n",
              " '__len__',\n",
              " '__lt__',\n",
              " '__matmul__',\n",
              " '__mod__',\n",
              " '__module__',\n",
              " '__mul__',\n",
              " '__ne__',\n",
              " '__neg__',\n",
              " '__new__',\n",
              " '__nonzero__',\n",
              " '__or__',\n",
              " '__pos__',\n",
              " '__pow__',\n",
              " '__radd__',\n",
              " '__rand__',\n",
              " '__rdivmod__',\n",
              " '__reduce__',\n",
              " '__reduce_ex__',\n",
              " '__repr__',\n",
              " '__rfloordiv__',\n",
              " '__rmatmul__',\n",
              " '__rmod__',\n",
              " '__rmul__',\n",
              " '__ror__',\n",
              " '__round__',\n",
              " '__rpow__',\n",
              " '__rsub__',\n",
              " '__rtruediv__',\n",
              " '__rxor__',\n",
              " '__setattr__',\n",
              " '__setitem__',\n",
              " '__setstate__',\n",
              " '__sizeof__',\n",
              " '__str__',\n",
              " '__sub__',\n",
              " '__subclasshook__',\n",
              " '__truediv__',\n",
              " '__weakref__',\n",
              " '__xor__',\n",
              " '_accessors',\n",
              " '_accum_func',\n",
              " '_add_numeric_operations',\n",
              " '_agg_by_level',\n",
              " '_agg_examples_doc',\n",
              " '_agg_summary_and_see_also_doc',\n",
              " '_align_frame',\n",
              " '_align_series',\n",
              " '_append',\n",
              " '_arith_method',\n",
              " '_as_manager',\n",
              " '_attrs',\n",
              " '_box_col_values',\n",
              " '_can_fast_transpose',\n",
              " '_check_inplace_and_allows_duplicate_labels',\n",
              " '_check_inplace_setting',\n",
              " '_check_is_chained_assignment_possible',\n",
              " '_check_label_or_level_ambiguity',\n",
              " '_check_setitem_copy',\n",
              " '_clear_item_cache',\n",
              " '_clip_with_one_bound',\n",
              " '_clip_with_scalar',\n",
              " '_cmp_method',\n",
              " '_combine_frame',\n",
              " '_consolidate',\n",
              " '_consolidate_inplace',\n",
              " '_construct_axes_dict',\n",
              " '_construct_axes_from_arguments',\n",
              " '_construct_result',\n",
              " '_constructor',\n",
              " '_constructor_sliced',\n",
              " '_convert',\n",
              " '_count_level',\n",
              " '_data',\n",
              " '_dir_additions',\n",
              " '_dir_deletions',\n",
              " '_dispatch_frame_op',\n",
              " '_drop_axis',\n",
              " '_drop_labels_or_levels',\n",
              " '_ensure_valid_index',\n",
              " '_find_valid_index',\n",
              " '_flags',\n",
              " '_from_arrays',\n",
              " '_get_agg_axis',\n",
              " '_get_axis',\n",
              " '_get_axis_name',\n",
              " '_get_axis_number',\n",
              " '_get_axis_resolvers',\n",
              " '_get_block_manager_axis',\n",
              " '_get_bool_data',\n",
              " '_get_cleaned_column_resolvers',\n",
              " '_get_column_array',\n",
              " '_get_index_resolvers',\n",
              " '_get_item_cache',\n",
              " '_get_label_or_level_values',\n",
              " '_get_numeric_data',\n",
              " '_get_value',\n",
              " '_getitem_bool_array',\n",
              " '_getitem_multilevel',\n",
              " '_gotitem',\n",
              " '_hidden_attrs',\n",
              " '_indexed_same',\n",
              " '_info_axis',\n",
              " '_info_axis_name',\n",
              " '_info_axis_number',\n",
              " '_info_repr',\n",
              " '_init_mgr',\n",
              " '_inplace_method',\n",
              " '_internal_names',\n",
              " '_internal_names_set',\n",
              " '_is_copy',\n",
              " '_is_homogeneous_type',\n",
              " '_is_label_or_level_reference',\n",
              " '_is_label_reference',\n",
              " '_is_level_reference',\n",
              " '_is_mixed_type',\n",
              " '_is_view',\n",
              " '_iset_item',\n",
              " '_iset_item_mgr',\n",
              " '_iset_not_inplace',\n",
              " '_item_cache',\n",
              " '_iter_column_arrays',\n",
              " '_ixs',\n",
              " '_join_compat',\n",
              " '_logical_func',\n",
              " '_logical_method',\n",
              " '_maybe_cache_changed',\n",
              " '_maybe_update_cacher',\n",
              " '_metadata',\n",
              " '_mgr',\n",
              " '_min_count_stat_function',\n",
              " '_needs_reindex_multi',\n",
              " '_protect_consolidate',\n",
              " '_reduce',\n",
              " '_reduce_axis1',\n",
              " '_reindex_axes',\n",
              " '_reindex_columns',\n",
              " '_reindex_index',\n",
              " '_reindex_multi',\n",
              " '_reindex_with_indexers',\n",
              " '_rename',\n",
              " '_replace_columnwise',\n",
              " '_repr_data_resource_',\n",
              " '_repr_fits_horizontal_',\n",
              " '_repr_fits_vertical_',\n",
              " '_repr_html_',\n",
              " '_repr_latex_',\n",
              " '_reset_cache',\n",
              " '_reset_cacher',\n",
              " '_sanitize_column',\n",
              " '_series',\n",
              " '_set_axis',\n",
              " '_set_axis_name',\n",
              " '_set_axis_nocheck',\n",
              " '_set_is_copy',\n",
              " '_set_item',\n",
              " '_set_item_frame_value',\n",
              " '_set_item_mgr',\n",
              " '_set_value',\n",
              " '_setitem_array',\n",
              " '_setitem_frame',\n",
              " '_setitem_slice',\n",
              " '_slice',\n",
              " '_stat_axis',\n",
              " '_stat_axis_name',\n",
              " '_stat_axis_number',\n",
              " '_stat_function',\n",
              " '_stat_function_ddof',\n",
              " '_take',\n",
              " '_take_with_is_copy',\n",
              " '_to_dict_of_blocks',\n",
              " '_typ',\n",
              " '_update_inplace',\n",
              " '_validate_dtype',\n",
              " '_values',\n",
              " '_where',\n",
              " 'abs',\n",
              " 'add',\n",
              " 'add_prefix',\n",
              " 'add_suffix',\n",
              " 'agg',\n",
              " 'aggregate',\n",
              " 'align',\n",
              " 'all',\n",
              " 'any',\n",
              " 'append',\n",
              " 'apply',\n",
              " 'applymap',\n",
              " 'asfreq',\n",
              " 'asof',\n",
              " 'assign',\n",
              " 'astype',\n",
              " 'at',\n",
              " 'at_time',\n",
              " 'attrs',\n",
              " 'axes',\n",
              " 'backfill',\n",
              " 'between_time',\n",
              " 'bfill',\n",
              " 'bool',\n",
              " 'boxplot',\n",
              " 'clip',\n",
              " 'columns',\n",
              " 'combine',\n",
              " 'combine_first',\n",
              " 'compare',\n",
              " 'convert_dtypes',\n",
              " 'copy',\n",
              " 'corr',\n",
              " 'corrwith',\n",
              " 'count',\n",
              " 'cov',\n",
              " 'cummax',\n",
              " 'cummin',\n",
              " 'cumprod',\n",
              " 'cumsum',\n",
              " 'describe',\n",
              " 'diff',\n",
              " 'div',\n",
              " 'divide',\n",
              " 'dot',\n",
              " 'drop',\n",
              " 'drop_duplicates',\n",
              " 'droplevel',\n",
              " 'dropna',\n",
              " 'dtypes',\n",
              " 'duplicated',\n",
              " 'empty',\n",
              " 'eq',\n",
              " 'equals',\n",
              " 'eval',\n",
              " 'ewm',\n",
              " 'expanding',\n",
              " 'explode',\n",
              " 'ffill',\n",
              " 'fillna',\n",
              " 'filter',\n",
              " 'first',\n",
              " 'first_valid_index',\n",
              " 'flags',\n",
              " 'floordiv',\n",
              " 'from_dict',\n",
              " 'from_records',\n",
              " 'ge',\n",
              " 'get',\n",
              " 'groupby',\n",
              " 'gt',\n",
              " 'head',\n",
              " 'hist',\n",
              " 'iat',\n",
              " 'idxmax',\n",
              " 'idxmin',\n",
              " 'iloc',\n",
              " 'index',\n",
              " 'infer_objects',\n",
              " 'info',\n",
              " 'insert',\n",
              " 'interpolate',\n",
              " 'isetitem',\n",
              " 'isin',\n",
              " 'isna',\n",
              " 'isnull',\n",
              " 'items',\n",
              " 'iteritems',\n",
              " 'iterrows',\n",
              " 'itertuples',\n",
              " 'join',\n",
              " 'keys',\n",
              " 'kurt',\n",
              " 'kurtosis',\n",
              " 'label',\n",
              " 'last',\n",
              " 'last_valid_index',\n",
              " 'le',\n",
              " 'loc',\n",
              " 'lookup',\n",
              " 'lt',\n",
              " 'mad',\n",
              " 'mask',\n",
              " 'max',\n",
              " 'mean',\n",
              " 'median',\n",
              " 'melt',\n",
              " 'memory_usage',\n",
              " 'merge',\n",
              " 'min',\n",
              " 'mod',\n",
              " 'mode',\n",
              " 'mul',\n",
              " 'multiply',\n",
              " 'ndim',\n",
              " 'ne',\n",
              " 'nlargest',\n",
              " 'notna',\n",
              " 'notnull',\n",
              " 'nsmallest',\n",
              " 'nunique',\n",
              " 'pad',\n",
              " 'pct_change',\n",
              " 'pipe',\n",
              " 'pivot',\n",
              " 'pivot_table',\n",
              " 'pixel1',\n",
              " 'pixel10',\n",
              " 'pixel11',\n",
              " 'pixel12',\n",
              " 'pixel13',\n",
              " 'pixel14',\n",
              " 'pixel15',\n",
              " 'pixel16',\n",
              " 'pixel17',\n",
              " 'pixel18',\n",
              " 'pixel19',\n",
              " 'pixel2',\n",
              " 'pixel20',\n",
              " 'pixel21',\n",
              " 'pixel22',\n",
              " 'pixel23',\n",
              " 'pixel24',\n",
              " 'pixel25',\n",
              " 'pixel26',\n",
              " 'pixel27',\n",
              " 'pixel28',\n",
              " 'pixel29',\n",
              " 'pixel3',\n",
              " 'pixel30',\n",
              " 'pixel31',\n",
              " 'pixel32',\n",
              " 'pixel33',\n",
              " 'pixel34',\n",
              " 'pixel35',\n",
              " 'pixel36',\n",
              " 'pixel37',\n",
              " 'pixel38',\n",
              " 'pixel39',\n",
              " 'pixel4',\n",
              " 'pixel40',\n",
              " 'pixel41',\n",
              " 'pixel42',\n",
              " 'pixel43',\n",
              " 'pixel44',\n",
              " 'pixel45',\n",
              " 'pixel46',\n",
              " 'pixel47',\n",
              " 'pixel48',\n",
              " 'pixel49',\n",
              " 'pixel5',\n",
              " 'pixel50',\n",
              " 'pixel51',\n",
              " 'pixel52',\n",
              " 'pixel53',\n",
              " 'pixel54',\n",
              " 'pixel55',\n",
              " 'pixel56',\n",
              " 'pixel57',\n",
              " 'pixel58',\n",
              " 'pixel59',\n",
              " 'pixel6',\n",
              " 'pixel60',\n",
              " 'pixel61',\n",
              " 'pixel62',\n",
              " 'pixel63',\n",
              " 'pixel64',\n",
              " 'pixel65',\n",
              " 'pixel66',\n",
              " 'pixel67',\n",
              " 'pixel68',\n",
              " 'pixel69',\n",
              " 'pixel7',\n",
              " 'pixel70',\n",
              " 'pixel71',\n",
              " 'pixel72',\n",
              " 'pixel73',\n",
              " 'pixel74',\n",
              " 'pixel75',\n",
              " 'pixel76',\n",
              " 'pixel77',\n",
              " 'pixel78',\n",
              " 'pixel79',\n",
              " 'pixel8',\n",
              " 'pixel80',\n",
              " 'pixel81',\n",
              " 'pixel82',\n",
              " 'pixel83',\n",
              " 'pixel84',\n",
              " 'pixel85',\n",
              " 'pixel86',\n",
              " 'pixel87',\n",
              " 'pixel88',\n",
              " 'pixel89',\n",
              " 'pixel9',\n",
              " 'pixel90',\n",
              " 'pixel91',\n",
              " 'pixel92',\n",
              " 'pixel93',\n",
              " 'pixel94',\n",
              " 'pixel95',\n",
              " 'pixel96',\n",
              " 'pixel97',\n",
              " 'pixel98',\n",
              " 'pixel99',\n",
              " 'plot',\n",
              " 'pop',\n",
              " 'pow',\n",
              " 'prod',\n",
              " 'product',\n",
              " 'quantile',\n",
              " 'query',\n",
              " 'radd',\n",
              " 'rank',\n",
              " 'rdiv',\n",
              " 'reindex',\n",
              " 'reindex_like',\n",
              " 'rename',\n",
              " 'rename_axis',\n",
              " 'reorder_levels',\n",
              " 'replace',\n",
              " 'resample',\n",
              " 'reset_index',\n",
              " 'rfloordiv',\n",
              " 'rmod',\n",
              " 'rmul',\n",
              " 'rolling',\n",
              " 'round',\n",
              " 'rpow',\n",
              " 'rsub',\n",
              " 'rtruediv',\n",
              " 'sample',\n",
              " 'select_dtypes',\n",
              " 'sem',\n",
              " 'set_axis',\n",
              " 'set_flags',\n",
              " 'set_index',\n",
              " 'shape',\n",
              " 'shift',\n",
              " 'size',\n",
              " 'skew',\n",
              " 'slice_shift',\n",
              " 'sort_index',\n",
              " 'sort_values',\n",
              " 'squeeze',\n",
              " 'stack',\n",
              " 'std',\n",
              " 'style',\n",
              " 'sub',\n",
              " 'subtract',\n",
              " 'sum',\n",
              " 'swapaxes',\n",
              " 'swaplevel',\n",
              " 'tail',\n",
              " 'take',\n",
              " 'to_clipboard',\n",
              " 'to_csv',\n",
              " 'to_dict',\n",
              " 'to_excel',\n",
              " 'to_feather',\n",
              " 'to_gbq',\n",
              " 'to_hdf',\n",
              " 'to_html',\n",
              " 'to_json',\n",
              " 'to_latex',\n",
              " 'to_markdown',\n",
              " 'to_numpy',\n",
              " 'to_orc',\n",
              " 'to_parquet',\n",
              " 'to_period',\n",
              " 'to_pickle',\n",
              " 'to_records',\n",
              " 'to_sql',\n",
              " 'to_stata',\n",
              " 'to_string',\n",
              " 'to_timestamp',\n",
              " 'to_xarray',\n",
              " 'to_xml',\n",
              " 'transform',\n",
              " 'transpose',\n",
              " 'truediv',\n",
              " 'truncate',\n",
              " 'tz_convert',\n",
              " 'tz_localize',\n",
              " 'unstack',\n",
              " 'update',\n",
              " 'value_counts',\n",
              " 'values',\n",
              " 'var',\n",
              " 'where',\n",
              " 'xs']"
            ]
          },
          "metadata": {},
          "execution_count": 49
        }
      ],
      "source": [
        "dir(test_df)"
      ]
    },
    {
      "cell_type": "code",
      "execution_count": null,
      "metadata": {
        "tags": [],
        "colab": {
          "base_uri": "https://localhost:8080/"
        },
        "id": "4XTnJhOgObfb",
        "outputId": "58a877bc-277e-4af7-8ca1-5d5907f716fc"
      },
      "outputs": [
        {
          "output_type": "execute_result",
          "data": {
            "text/plain": [
              "Index(['label', 'pixel1', 'pixel2', 'pixel3', 'pixel4'], dtype='object')"
            ]
          },
          "metadata": {},
          "execution_count": 50
        }
      ],
      "source": [
        "test_df.columns[0:5]"
      ]
    },
    {
      "cell_type": "code",
      "execution_count": null,
      "metadata": {
        "tags": [],
        "colab": {
          "base_uri": "https://localhost:8080/"
        },
        "id": "P5-qMRx7Obfb",
        "outputId": "8e95e9cc-3b15-4576-d307-21b82e3788b2"
      },
      "outputs": [
        {
          "output_type": "execute_result",
          "data": {
            "text/plain": [
              "(10000, 785)"
            ]
          },
          "metadata": {},
          "execution_count": 51
        }
      ],
      "source": [
        "test_df.shape"
      ]
    },
    {
      "cell_type": "code",
      "execution_count": null,
      "metadata": {
        "tags": [],
        "colab": {
          "base_uri": "https://localhost:8080/"
        },
        "id": "fqJD_JuoObfc",
        "outputId": "f10725b5-5a1b-4f39-f2c0-df6a3d986e8e"
      },
      "outputs": [
        {
          "output_type": "execute_result",
          "data": {
            "text/plain": [
              "(60000, 785)"
            ]
          },
          "metadata": {},
          "execution_count": 52
        }
      ],
      "source": [
        "train_df.shape"
      ]
    },
    {
      "cell_type": "markdown",
      "metadata": {
        "id": "mKJUicnrObfc"
      },
      "source": [
        "Okay,  I'm expecting 28 x 28 greyscale images again,  we have the first column as the label, the rest of this is the pixels\n",
        "\n",
        "Most skearn models will accept pandas dataframes as input data,   so I don't think we need to do much here except split out\n",
        "the first column as y and the rest of the df as X\n",
        "\n",
        "pandas has a member function called pop that removes a row from the dataframe.  We'll use that to both set y_train equal to the labels, and X_train to the remaining df"
      ]
    },
    {
      "cell_type": "code",
      "execution_count": null,
      "metadata": {
        "tags": [],
        "id": "kHj4ljH-Obfc"
      },
      "outputs": [],
      "source": [
        "y_train=train_df.pop('label')\n",
        "X_train=train_df\n"
      ]
    },
    {
      "cell_type": "code",
      "execution_count": null,
      "metadata": {
        "tags": [],
        "colab": {
          "base_uri": "https://localhost:8080/"
        },
        "id": "4-u6Rc8EObfc",
        "outputId": "a85dae45-f902-40ac-c826-85bd037e8e67"
      },
      "outputs": [
        {
          "output_type": "stream",
          "name": "stdout",
          "text": [
            "(60000,)\n",
            "(60000, 784)\n"
          ]
        }
      ],
      "source": [
        "print(y_train.shape)\n",
        "print(X_train.shape)"
      ]
    },
    {
      "cell_type": "code",
      "execution_count": null,
      "metadata": {
        "tags": [],
        "id": "0vZbgospObfc"
      },
      "outputs": [],
      "source": [
        "y_test=test_df.pop('label')\n",
        "X_test=test_df"
      ]
    },
    {
      "cell_type": "markdown",
      "metadata": {
        "id": "c9NNM9W7Obfc"
      },
      "source": [
        "Labels\n",
        "\n",
        "Each training and test example is assigned to one of the following labels:\n",
        "\n",
        "0 T-shirt/top\n",
        "1 Trouser\n",
        "2 Pullover\n",
        "3 Dress\n",
        "4 Coat\n",
        "5 Sandal\n",
        "6 Shirt\n",
        "7 Sneaker\n",
        "8 Bag\n",
        "9 Ankle boot"
      ]
    },
    {
      "cell_type": "markdown",
      "metadata": {
        "id": "HRVY8ZqVObfd"
      },
      "source": [
        "The % symbol indicates that this is a magic function,  that is to say a function\n",
        "command for the jupyter notebook server, not to the python kernel\n",
        "\n",
        "This particular command causes plots created using the matplotlib libary to print in the\n",
        "notebook not in a new window"
      ]
    },
    {
      "cell_type": "code",
      "execution_count": null,
      "metadata": {
        "tags": [],
        "id": "eYimWixvObfd"
      },
      "outputs": [],
      "source": [
        "%matplotlib inline"
      ]
    },
    {
      "cell_type": "markdown",
      "metadata": {
        "id": "8ULrI8LWObfd"
      },
      "source": [
        "## 1: Data plots\n",
        "\n",
        "Okay here is the visualization of one image, a shirt\n",
        "\n",
        "Note:   I use a location slice of the X_train dataframe,    X_train.loc[0,:] to get row zero, all entries,  or the first\n",
        "    image in the array.   I then force that into the np.array form so I can use the reshape() member function to reshape the\n",
        "    row of data into a 28 x 28 image.\n",
        "    \n",
        "    I don't think that pandas easily allows the reshape maneuver, so that's why I converted to an np.array,  the\n",
        "    reshape operation produces an np matrix that can be plotted with imshow.  There may be a better way to do this.  Hmm.\n",
        "    \n",
        "Also I checked, and we can feed X_train into the training input of the classifier as a pd.dataframe, there is no need to change\n",
        "the format\n",
        "\n",
        "Most sklearn models will accept either pandas dataframes or np matrices as inputs,  which is a help"
      ]
    },
    {
      "cell_type": "code",
      "execution_count": null,
      "metadata": {
        "tags": [],
        "colab": {
          "base_uri": "https://localhost:8080/",
          "height": 406
        },
        "id": "EdJFJ-XeObfd",
        "outputId": "bb566835-be47-4977-c9d8-c67b7eedcf3c"
      },
      "outputs": [
        {
          "output_type": "display_data",
          "data": {
            "text/plain": [
              "<Figure size 640x480 with 1 Axes>"
            ],
            "image/png": "[encoded data removed]"
          },
          "metadata": {}
        }
      ],
      "source": [
        "import matplotlib as mpl\n",
        "import matplotlib.pyplot as plt\n",
        "\n",
        "some_digit = np.array(X_train.loc[0,:])\n",
        "some_digit_image = some_digit.reshape(28, 28)\n",
        "\n",
        "plt.imshow(some_digit_image, cmap=\"binary\")\n",
        "plt.axis(\"off\")\n",
        "plt.show()"
      ]
    },
    {
      "cell_type": "code",
      "execution_count": null,
      "metadata": {
        "tags": [],
        "colab": {
          "base_uri": "https://localhost:8080/"
        },
        "id": "7ciloKG8Obfd",
        "outputId": "fa1224d5-154d-4f13-b541-8b3c28380392"
      },
      "outputs": [
        {
          "output_type": "execute_result",
          "data": {
            "text/plain": [
              "2"
            ]
          },
          "metadata": {},
          "execution_count": 58
        }
      ],
      "source": [
        "y_train[0]"
      ]
    },
    {
      "cell_type": "markdown",
      "metadata": {
        "id": "ylIq9dCSObfd"
      },
      "source": [
        "# Question/Action\n",
        "\n",
        "What type of cloting is this image supposed to be?   Insert a cell with your answer below"
      ]
    },
    {
      "cell_type": "markdown",
      "metadata": {
        "id": "YZH1ss2aObfd"
      },
      "source": [
        "This is the 2nd kind in the target so Pullover."
      ]
    },
    {
      "cell_type": "markdown",
      "metadata": {
        "id": "6CWrpyhpObfe"
      },
      "source": [
        "#Question/Action\n",
        "\n",
        "Show images of a sandal and a sneaker from this data set, show them in cells below\n",
        "\n",
        "Show all your steps"
      ]
    },
    {
      "cell_type": "code",
      "execution_count": null,
      "metadata": {
        "tags": [],
        "id": "YmC6lDyWObfe"
      },
      "outputs": [],
      "source": [
        "#Going to show sandal(5) and a sneaker(7)\n",
        "#print(y_train[7])\n",
        "#print(y_train[21])\n",
        "\n",
        "\n",
        "mask = y_train.isin([5])\n",
        "#mask[:21]\n",
        "SandleIndex = np.nonzero(np.array(mask))\n",
        "SandleIndex=SandleIndex[0][0]\n",
        "mask = y_train.isin([7])\n",
        "#mask[:21]\n",
        "SneakerIndex = np.nonzero(np.array(mask))[0][0]\n"
      ]
    },
    {
      "cell_type": "code",
      "execution_count": null,
      "metadata": {
        "id": "5XPXgVc0Obfe"
      },
      "outputs": [],
      "source": []
    },
    {
      "cell_type": "code",
      "execution_count": null,
      "metadata": {
        "tags": [],
        "colab": {
          "base_uri": "https://localhost:8080/",
          "height": 406
        },
        "id": "e1acyHaXObfe",
        "outputId": "f85b0711-0f1a-45bf-efec-c7ad63504b10"
      },
      "outputs": [
        {
          "output_type": "display_data",
          "data": {
            "text/plain": [
              "<Figure size 640x480 with 1 Axes>"
            ],
            "image/png": "[encoded data removed]"
          },
          "metadata": {}
        }
      ],
      "source": [
        "import matplotlib as mpl\n",
        "import matplotlib.pyplot as plt\n",
        "\n",
        "some_digit = np.array(X_train.loc[SandleIndex,:])\n",
        "some_digit_image = some_digit.reshape(28, 28)\n",
        "\n",
        "plt.imshow(some_digit_image, cmap=\"binary\")\n",
        "plt.axis(\"off\")\n",
        "plt.show()"
      ]
    },
    {
      "cell_type": "code",
      "execution_count": null,
      "metadata": {
        "tags": [],
        "colab": {
          "base_uri": "https://localhost:8080/",
          "height": 406
        },
        "id": "8KCi-nOcObfe",
        "outputId": "e26bf999-0c31-4e5e-98ac-335e2509225d"
      },
      "outputs": [
        {
          "output_type": "display_data",
          "data": {
            "text/plain": [
              "<Figure size 640x480 with 1 Axes>"
            ],
            "image/png": "[encoded data removed]"
          },
          "metadata": {}
        }
      ],
      "source": [
        "import matplotlib as mpl\n",
        "import matplotlib.pyplot as plt\n",
        "\n",
        "some_digit = np.array(X_train.loc[SneakerIndex,:])\n",
        "some_digit_image = some_digit.reshape(28, 28)\n",
        "\n",
        "plt.imshow(some_digit_image, cmap=\"binary\")\n",
        "plt.axis(\"off\")\n",
        "plt.show()"
      ]
    },
    {
      "cell_type": "code",
      "execution_count": null,
      "metadata": {
        "tags": [],
        "colab": {
          "base_uri": "https://localhost:8080/",
          "height": 406
        },
        "id": "QBIlLthQObfe",
        "outputId": "969b238e-4da2-442c-ce8f-544c35e447ec"
      },
      "outputs": [
        {
          "output_type": "display_data",
          "data": {
            "text/plain": [
              "<Figure size 640x480 with 1 Axes>"
            ],
            "image/png": "[encoded data removed]"
          },
          "metadata": {}
        }
      ],
      "source": [
        "import matplotlib as mpl\n",
        "import matplotlib.pyplot as plt\n",
        "\n",
        "some_digit = np.array(X_train.loc[1,:])\n",
        "some_digit_image = some_digit.reshape(28, 28)\n",
        "\n",
        "plt.imshow(some_digit_image, cmap=\"binary\")\n",
        "plt.axis(\"off\")\n",
        "plt.show()"
      ]
    },
    {
      "cell_type": "code",
      "execution_count": null,
      "metadata": {
        "tags": [],
        "colab": {
          "base_uri": "https://localhost:8080/"
        },
        "id": "Z7zuVo47Obfe",
        "outputId": "7d2abe9d-ea8d-4c6e-8f9e-f445e8c05c4f"
      },
      "outputs": [
        {
          "output_type": "execute_result",
          "data": {
            "text/plain": [
              "9"
            ]
          },
          "metadata": {},
          "execution_count": 63
        }
      ],
      "source": [
        "y_train[1]"
      ]
    },
    {
      "cell_type": "markdown",
      "metadata": {
        "id": "m9iVD6jQObff"
      },
      "source": [
        "## 2: Time to Build some models\n",
        "\n",
        "Lets build two different classifying neural net models\n",
        "\n",
        "fclf - this should classify each image to one of the ten label classes (0-9)\n",
        "\n",
        "fclf2- classify everything as either a pullover (2) or not a pullover, this is a binary categorization"
      ]
    },
    {
      "cell_type": "code",
      "execution_count": null,
      "metadata": {
        "tags": [],
        "id": "LaJVPhADObff"
      },
      "outputs": [],
      "source": [
        "y_train_2=(y_train==2)\n",
        "y_test_2=(y_test==2)"
      ]
    },
    {
      "cell_type": "markdown",
      "metadata": {
        "id": "QFjzpVvkObff"
      },
      "source": [
        "## Okay, go build some models-Assignment\n",
        "\n",
        "1.) For each model find the accuracy, the confusion matrix, the precision and the recall, label these all/\n",
        "    Look at the confusion matrix,  explain which classes of objects were most likely to be confused with\n",
        "    each other and which were most distinct.  Explain why you think this happens,  does it make sense?\n",
        "\n",
        "    I ran these quickly (so I know this works) and got 87.7 % accuracy for the X-train data set using all 10 classes and\n",
        "    97.7 % accuracy  for the binary classification (ie the pullover detector).  See if you can beat the quick results I got.       Post your results in the discussion section of D2L for this week.  Discuss what you did to beat my score\n",
        "\n",
        "2.) Also, create the ROC curve for the binary classifier and compute the AUC for the ROC,  for the binary classifier,  but not for the 10 element classifier\n",
        "\n",
        "3.) When you are done with steps 1 and 2,   use your two classifier models to classify the test data.\n",
        "    Is there evidence of overfitting?  What tells you this?\n",
        "\n",
        "\n",
        "Print your completed jupyter notebook to a pdf file,  you can use the browser to print to pdf.  Upload this to dropbox in D2L to submit the homework."
      ]
    },
    {
      "cell_type": "markdown",
      "metadata": {
        "id": "yleY716uObff"
      },
      "source": [
        "## Model fclf,  classify fashion image to 10 categories"
      ]
    },
    {
      "cell_type": "markdown",
      "metadata": {
        "id": "6zf9qWz3Obff"
      },
      "source": [
        "## First lets build fclf - this should classify each image to one of the ten label classes (0-9)"
      ]
    },
    {
      "cell_type": "markdown",
      "metadata": {
        "tags": [],
        "id": "t0RRIcfiObff"
      },
      "source": [
        "To improve performance I am going to increase the hidden layer sizes."
      ]
    },
    {
      "cell_type": "code",
      "execution_count": null,
      "metadata": {
        "tags": [],
        "colab": {
          "base_uri": "https://localhost:8080/",
          "height": 3406
        },
        "id": "mtSaVPEDObff",
        "outputId": "6ae6906a-db51-4072-c401-7f9e1c64b2c5"
      },
      "outputs": [
        {
          "output_type": "stream",
          "name": "stdout",
          "text": [
            "Iteration 1, loss = 3.01173995\n",
            "Iteration 2, loss = 1.49290983\n",
            "Iteration 3, loss = 1.26351452\n",
            "Iteration 4, loss = 1.08092941\n",
            "Iteration 5, loss = 0.95217684\n",
            "Iteration 6, loss = 0.85769123\n",
            "Iteration 7, loss = 0.80354189\n",
            "Iteration 8, loss = 0.76014074\n",
            "Iteration 9, loss = 0.74044255\n",
            "Iteration 10, loss = 0.71849393\n",
            "Iteration 11, loss = 0.69391751\n",
            "Iteration 12, loss = 0.67467273\n",
            "Iteration 13, loss = 0.64428157\n",
            "Iteration 14, loss = 0.60659959\n",
            "Iteration 15, loss = 0.58760437\n",
            "Iteration 16, loss = 0.56473928\n",
            "Iteration 17, loss = 0.54435815\n",
            "Iteration 18, loss = 0.52756067\n",
            "Iteration 19, loss = 0.51277337\n",
            "Iteration 20, loss = 0.50020870\n",
            "Iteration 21, loss = 0.48862021\n",
            "Iteration 22, loss = 0.47115685\n",
            "Iteration 23, loss = 0.45939473\n",
            "Iteration 24, loss = 0.44485045\n",
            "Iteration 25, loss = 0.44223176\n",
            "Iteration 26, loss = 0.43590556\n",
            "Iteration 27, loss = 0.43400206\n",
            "Iteration 28, loss = 0.42161737\n",
            "Iteration 29, loss = 0.41504866\n",
            "Iteration 30, loss = 0.40827832\n",
            "Iteration 31, loss = 0.40675772\n",
            "Iteration 32, loss = 0.41039817\n",
            "Iteration 33, loss = 0.40400556\n",
            "Iteration 34, loss = 0.39645916\n",
            "Iteration 35, loss = 0.39929223\n",
            "Iteration 36, loss = 0.38581689\n",
            "Iteration 37, loss = 0.38296057\n",
            "Iteration 38, loss = 0.38041096\n",
            "Iteration 39, loss = 0.38127683\n",
            "Iteration 40, loss = 0.37627755\n",
            "Iteration 41, loss = 0.37115507\n",
            "Iteration 42, loss = 0.36196779\n",
            "Iteration 43, loss = 0.36314739\n",
            "Iteration 44, loss = 0.36479858\n",
            "Iteration 45, loss = 0.36045970\n",
            "Iteration 46, loss = 0.36232922\n",
            "Iteration 47, loss = 0.36014691\n",
            "Iteration 48, loss = 0.35215833\n",
            "Iteration 49, loss = 0.34433603\n",
            "Iteration 50, loss = 0.34761822\n",
            "Iteration 51, loss = 0.34487601\n",
            "Iteration 52, loss = 0.34295914\n",
            "Iteration 53, loss = 0.34052425\n",
            "Iteration 54, loss = 0.34973542\n",
            "Iteration 55, loss = 0.33952980\n",
            "Iteration 56, loss = 0.34037304\n",
            "Iteration 57, loss = 0.33639833\n",
            "Iteration 58, loss = 0.33212819\n",
            "Iteration 59, loss = 0.33651220\n",
            "Iteration 60, loss = 0.33060810\n",
            "Iteration 61, loss = 0.33235731\n",
            "Iteration 62, loss = 0.32922606\n",
            "Iteration 63, loss = 0.31956990\n",
            "Iteration 64, loss = 0.32594625\n",
            "Iteration 65, loss = 0.33260728\n",
            "Iteration 66, loss = 0.32091184\n",
            "Iteration 67, loss = 0.32543906\n",
            "Iteration 68, loss = 0.31792830\n",
            "Iteration 69, loss = 0.32275393\n",
            "Iteration 70, loss = 0.31653049\n",
            "Iteration 71, loss = 0.31504114\n",
            "Iteration 72, loss = 0.31700043\n",
            "Iteration 73, loss = 0.31595449\n",
            "Iteration 74, loss = 0.31769520\n",
            "Iteration 75, loss = 0.31051678\n",
            "Iteration 76, loss = 0.31057300\n",
            "Iteration 77, loss = 0.31022485\n",
            "Iteration 78, loss = 0.30475509\n",
            "Iteration 79, loss = 0.31187765\n",
            "Iteration 80, loss = 0.31272900\n",
            "Iteration 81, loss = 0.30669858\n",
            "Iteration 82, loss = 0.31131854\n",
            "Iteration 83, loss = 0.30513291\n",
            "Iteration 84, loss = 0.30145611\n",
            "Iteration 85, loss = 0.30773963\n",
            "Iteration 86, loss = 0.30266236\n",
            "Iteration 87, loss = 0.30250924\n",
            "Iteration 88, loss = 0.30960456\n",
            "Iteration 89, loss = 0.29663081\n",
            "Iteration 90, loss = 0.29794881\n",
            "Iteration 91, loss = 0.30077294\n",
            "Iteration 92, loss = 0.29513005\n",
            "Iteration 93, loss = 0.30074123\n",
            "Iteration 94, loss = 0.30553552\n",
            "Iteration 95, loss = 0.29619158\n",
            "Iteration 96, loss = 0.29730174\n",
            "Iteration 97, loss = 0.30301800\n",
            "Iteration 98, loss = 0.29702207\n",
            "Iteration 99, loss = 0.29071679\n",
            "Iteration 100, loss = 0.28875091\n",
            "Iteration 101, loss = 0.28815826\n",
            "Iteration 102, loss = 0.29667725\n",
            "Iteration 103, loss = 0.28858403\n",
            "Iteration 104, loss = 0.29281273\n",
            "Iteration 105, loss = 0.29162119\n",
            "Iteration 106, loss = 0.28779132\n",
            "Iteration 107, loss = 0.29437542\n",
            "Iteration 108, loss = 0.28801573\n",
            "Iteration 109, loss = 0.28517978\n",
            "Iteration 110, loss = 0.28475474\n",
            "Iteration 111, loss = 0.29587571\n",
            "Iteration 112, loss = 0.28198834\n",
            "Iteration 113, loss = 0.28378152\n",
            "Iteration 114, loss = 0.28040167\n",
            "Iteration 115, loss = 0.28351153\n",
            "Iteration 116, loss = 0.28447500\n",
            "Iteration 117, loss = 0.27898370\n",
            "Iteration 118, loss = 0.28392275\n",
            "Iteration 119, loss = 0.28186668\n",
            "Iteration 120, loss = 0.29216912\n",
            "Iteration 121, loss = 0.27642755\n",
            "Iteration 122, loss = 0.27815964\n",
            "Iteration 123, loss = 0.28640951\n",
            "Iteration 124, loss = 0.29923831\n",
            "Iteration 125, loss = 0.27826349\n",
            "Iteration 126, loss = 0.27660392\n",
            "Iteration 127, loss = 0.28540170\n",
            "Iteration 128, loss = 0.28012941\n",
            "Iteration 129, loss = 0.27301732\n",
            "Iteration 130, loss = 0.27765056\n",
            "Iteration 131, loss = 0.28488949\n",
            "Iteration 132, loss = 0.28708146\n",
            "Iteration 133, loss = 0.27596037\n",
            "Iteration 134, loss = 0.27893109\n",
            "Iteration 135, loss = 0.27358410\n",
            "Iteration 136, loss = 0.28228717\n",
            "Iteration 137, loss = 0.26948778\n",
            "Iteration 138, loss = 0.26931804\n",
            "Iteration 139, loss = 0.27816528\n",
            "Iteration 140, loss = 0.27199058\n",
            "Iteration 141, loss = 0.26699335\n",
            "Iteration 142, loss = 0.27148594\n",
            "Iteration 143, loss = 0.27420168\n",
            "Iteration 144, loss = 0.27806917\n",
            "Iteration 145, loss = 0.26651546\n",
            "Iteration 146, loss = 0.26903612\n",
            "Iteration 147, loss = 0.26698617\n",
            "Iteration 148, loss = 0.26907560\n",
            "Iteration 149, loss = 0.27137525\n",
            "Iteration 150, loss = 0.28236167\n",
            "Iteration 151, loss = 0.27661457\n",
            "Iteration 152, loss = 0.27862800\n",
            "Iteration 153, loss = 0.26775649\n",
            "Iteration 154, loss = 0.26651023\n",
            "Iteration 155, loss = 0.26292505\n",
            "Iteration 156, loss = 0.25957818\n",
            "Iteration 157, loss = 0.26638366\n",
            "Iteration 158, loss = 0.26587732\n",
            "Iteration 159, loss = 0.27489827\n",
            "Iteration 160, loss = 0.26387739\n",
            "Iteration 161, loss = 0.26180335\n",
            "Iteration 162, loss = 0.27275766\n",
            "Iteration 163, loss = 0.27047074\n",
            "Iteration 164, loss = 0.25964435\n",
            "Iteration 165, loss = 0.25797193\n",
            "Iteration 166, loss = 0.26011627\n",
            "Iteration 167, loss = 0.27587736\n",
            "Iteration 168, loss = 0.27362187\n",
            "Iteration 169, loss = 0.26210193\n",
            "Iteration 170, loss = 0.25869749\n",
            "Iteration 171, loss = 0.27169172\n",
            "Iteration 172, loss = 0.26053182\n",
            "Iteration 173, loss = 0.25598939\n",
            "Iteration 174, loss = 0.26153590\n",
            "Iteration 175, loss = 0.28045363\n",
            "Iteration 176, loss = 0.26151651\n",
            "Iteration 177, loss = 0.27018539\n",
            "Iteration 178, loss = 0.26291939\n",
            "Iteration 179, loss = 0.25183456\n",
            "Iteration 180, loss = 0.26304893\n",
            "Iteration 181, loss = 0.26071354\n",
            "Iteration 182, loss = 0.25314055\n",
            "Iteration 183, loss = 0.25252226\n",
            "Iteration 184, loss = 0.26122677\n",
            "Iteration 185, loss = 0.27055056\n",
            "Iteration 186, loss = 0.26204419\n",
            "Iteration 187, loss = 0.26019841\n",
            "Iteration 188, loss = 0.25223640\n",
            "Iteration 189, loss = 0.27166005\n",
            "Iteration 190, loss = 0.25356201\n",
            "Training loss did not improve more than tol=0.000100 for 10 consecutive epochs. Stopping.\n"
          ]
        },
        {
          "output_type": "execute_result",
          "data": {
            "text/plain": [
              "MLPClassifier(alpha=1e-05, hidden_layer_sizes=(28, 14, 7), max_iter=500,\n",
              "              random_state=1, verbose=True)"
            ],
            "text/html": [
              "<style>#sk-container-id-3 {color: black;background-color: white;}#sk-container-id-3 pre{padding: 0;}#sk-container-id-3 div.sk-toggleable {background-color: white;}#sk-container-id-3 label.sk-toggleable__label {cursor: pointer;display: block;width: 100%;margin-bottom: 0;padding: 0.3em;box-sizing: border-box;text-align: center;}#sk-container-id-3 label.sk-toggleable__label-arrow:before {content: \"▸\";float: left;margin-right: 0.25em;color: #696969;}#sk-container-id-3 label.sk-toggleable__label-arrow:hover:before {color: black;}#sk-container-id-3 div.sk-estimator:hover label.sk-toggleable__label-arrow:before {color: black;}#sk-container-id-3 div.sk-toggleable__content {max-height: 0;max-width: 0;overflow: hidden;text-align: left;background-color: #f0f8ff;}#sk-container-id-3 div.sk-toggleable__content pre {margin: 0.2em;color: black;border-radius: 0.25em;background-color: #f0f8ff;}#sk-container-id-3 input.sk-toggleable__control:checked~div.sk-toggleable__content {max-height: 200px;max-width: 100%;overflow: auto;}#sk-container-id-3 input.sk-toggleable__control:checked~label.sk-toggleable__label-arrow:before {content: \"▾\";}#sk-container-id-3 div.sk-estimator input.sk-toggleable__control:checked~label.sk-toggleable__label {background-color: #d4ebff;}#sk-container-id-3 div.sk-label input.sk-toggleable__control:checked~label.sk-toggleable__label {background-color: #d4ebff;}#sk-container-id-3 input.sk-hidden--visually {border: 0;clip: rect(1px 1px 1px 1px);clip: rect(1px, 1px, 1px, 1px);height: 1px;margin: -1px;overflow: hidden;padding: 0;position: absolute;width: 1px;}#sk-container-id-3 div.sk-estimator {font-family: monospace;background-color: #f0f8ff;border: 1px dotted black;border-radius: 0.25em;box-sizing: border-box;margin-bottom: 0.5em;}#sk-container-id-3 div.sk-estimator:hover {background-color: #d4ebff;}#sk-container-id-3 div.sk-parallel-item::after {content: \"\";width: 100%;border-bottom: 1px solid gray;flex-grow: 1;}#sk-container-id-3 div.sk-label:hover label.sk-toggleable__label {background-color: #d4ebff;}#sk-container-id-3 div.sk-serial::before {content: \"\";position: absolute;border-left: 1px solid gray;box-sizing: border-box;top: 0;bottom: 0;left: 50%;z-index: 0;}#sk-container-id-3 div.sk-serial {display: flex;flex-direction: column;align-items: center;background-color: white;padding-right: 0.2em;padding-left: 0.2em;position: relative;}#sk-container-id-3 div.sk-item {position: relative;z-index: 1;}#sk-container-id-3 div.sk-parallel {display: flex;align-items: stretch;justify-content: center;background-color: white;position: relative;}#sk-container-id-3 div.sk-item::before, #sk-container-id-3 div.sk-parallel-item::before {content: \"\";position: absolute;border-left: 1px solid gray;box-sizing: border-box;top: 0;bottom: 0;left: 50%;z-index: -1;}#sk-container-id-3 div.sk-parallel-item {display: flex;flex-direction: column;z-index: 1;position: relative;background-color: white;}#sk-container-id-3 div.sk-parallel-item:first-child::after {align-self: flex-end;width: 50%;}#sk-container-id-3 div.sk-parallel-item:last-child::after {align-self: flex-start;width: 50%;}#sk-container-id-3 div.sk-parallel-item:only-child::after {width: 0;}#sk-container-id-3 div.sk-dashed-wrapped {border: 1px dashed gray;margin: 0 0.4em 0.5em 0.4em;box-sizing: border-box;padding-bottom: 0.4em;background-color: white;}#sk-container-id-3 div.sk-label label {font-family: monospace;font-weight: bold;display: inline-block;line-height: 1.2em;}#sk-container-id-3 div.sk-label-container {text-align: center;}#sk-container-id-3 div.sk-container {/* jupyter's `normalize.less` sets `[hidden] { display: none; }` but bootstrap.min.css set `[hidden] { display: none !important; }` so we also need the `!important` here to be able to override the default hidden behavior on the sphinx rendered scikit-learn.org. See: https://github.com/scikit-learn/scikit-learn/issues/21755 */display: inline-block !important;position: relative;}#sk-container-id-3 div.sk-text-repr-fallback {display: none;}</style><div id=\"sk-container-id-3\" class=\"sk-top-container\"><div class=\"sk-text-repr-fallback\"><pre>MLPClassifier(alpha=1e-05, hidden_layer_sizes=(28, 14, 7), max_iter=500,\n",
              "              random_state=1, verbose=True)</pre><b>In a Jupyter environment, please rerun this cell to show the HTML representation or trust the notebook. <br />On GitHub, the HTML representation is unable to render, please try loading this page with nbviewer.org.</b></div><div class=\"sk-container\" hidden><div class=\"sk-item\"><div class=\"sk-estimator sk-toggleable\"><input class=\"sk-toggleable__control sk-hidden--visually\" id=\"sk-estimator-id-3\" type=\"checkbox\" checked><label for=\"sk-estimator-id-3\" class=\"sk-toggleable__label sk-toggleable__label-arrow\">MLPClassifier</label><div class=\"sk-toggleable__content\"><pre>MLPClassifier(alpha=1e-05, hidden_layer_sizes=(28, 14, 7), max_iter=500,\n",
              "              random_state=1, verbose=True)</pre></div></div></div></div></div>"
            ]
          },
          "metadata": {},
          "execution_count": 65
        }
      ],
      "source": [
        "# multi catagory classification\n",
        "from sklearn.neural_network import MLPClassifier\n",
        "clf = MLPClassifier(solver='adam', alpha=1e-5, random_state=1, max_iter=500,hidden_layer_sizes=(28,14,7), verbose=True, warm_start=False)\n",
        "\n",
        "clf.fit(X_train, y_train)\n"
      ]
    },
    {
      "cell_type": "markdown",
      "metadata": {
        "id": "7kHJOHlHObfg"
      },
      "source": [
        "# prediction outputs"
      ]
    },
    {
      "cell_type": "code",
      "execution_count": null,
      "metadata": {
        "tags": [],
        "colab": {
          "base_uri": "https://localhost:8080/"
        },
        "id": "7AEwsG9RObfg",
        "outputId": "05401963-a171-42c1-8497-6e2c23b95b0b"
      },
      "outputs": [
        {
          "output_type": "execute_result",
          "data": {
            "text/plain": [
              "array([[7.88660135e-001, 4.08424110e-012, 2.12187289e-003,\n",
              "        5.64464633e-005, 1.83001612e-004, 2.21532380e-014,\n",
              "        2.08674937e-001, 2.32385998e-041, 3.03606953e-004,\n",
              "        3.11961391e-019],\n",
              "       [1.43123110e-018, 9.99999971e-001, 6.14255229e-011,\n",
              "        2.95366603e-009, 2.53569794e-008, 2.19339125e-016,\n",
              "        4.72335248e-015, 4.94034477e-018, 1.38457733e-010,\n",
              "        6.47158134e-013],\n",
              "       [2.75030243e-005, 3.88606506e-010, 9.93694451e-001,\n",
              "        8.64433828e-008, 1.93639261e-003, 3.08176696e-028,\n",
              "        4.26083844e-003, 1.07118339e-077, 8.07279506e-005,\n",
              "        1.55091177e-034],\n",
              "       [2.66618857e-003, 2.00013317e-012, 8.48774935e-001,\n",
              "        7.01247696e-007, 2.06802377e-003, 4.61260823e-027,\n",
              "        1.46317861e-001, 6.79144286e-078, 1.72290738e-004,\n",
              "        4.85043336e-034],\n",
              "       [4.04627450e-006, 6.88796427e-006, 3.11677318e-004,\n",
              "        7.42240698e-001, 2.44069999e-001, 1.16913128e-014,\n",
              "        1.12369561e-002, 8.24790934e-041, 2.12973505e-003,\n",
              "        1.15941764e-015],\n",
              "       [1.40882125e-001, 6.15313390e-003, 2.18419246e-001,\n",
              "        2.83419456e-001, 8.75277917e-002, 1.25063212e-007,\n",
              "        2.08576861e-001, 2.10148960e-019, 5.50212572e-002,\n",
              "        3.87704774e-009],\n",
              "       [6.01579857e-003, 9.04466829e-005, 2.26402723e-004,\n",
              "        4.12583657e-004, 3.29345412e-004, 8.38378799e-004,\n",
              "        3.59958170e-003, 4.03441856e-004, 9.87882592e-001,\n",
              "        2.01428896e-004],\n",
              "       [7.66940166e-003, 1.95697079e-007, 3.27664370e-001,\n",
              "        7.41143571e-003, 1.29062052e-001, 1.23177653e-017,\n",
              "        5.18746072e-001, 2.51462314e-051, 9.44647241e-003,\n",
              "        1.73883344e-021],\n",
              "       [9.09433406e-135, 0.00000000e+000, 1.74961470e-264,\n",
              "        1.53418953e-251, 3.93143123e-096, 1.00000000e+000,\n",
              "        6.72208982e-100, 4.40900342e-069, 2.23453206e-059,\n",
              "        7.80183512e-053],\n",
              "       [9.49801650e-001, 1.13665360e-008, 1.90179245e-003,\n",
              "        2.10664005e-004, 3.65418674e-004, 4.64221909e-009,\n",
              "        4.63334352e-002, 8.81407674e-024, 1.38702378e-003,\n",
              "        2.23591384e-012]])"
            ]
          },
          "metadata": {},
          "execution_count": 66
        }
      ],
      "source": [
        "clf.predict_proba(X_test[:10])"
      ]
    },
    {
      "cell_type": "code",
      "execution_count": null,
      "metadata": {
        "tags": [],
        "colab": {
          "base_uri": "https://localhost:8080/"
        },
        "id": "5olcZiraObfh",
        "outputId": "049a1322-707e-4dd2-a5c8-2a9fc01ff4fc"
      },
      "outputs": [
        {
          "output_type": "execute_result",
          "data": {
            "text/plain": [
              "array([0, 1, 2, 2, 3, 3, 8, 6, 5, 0, 3, 2, 4, 6, 8, 5, 6, 3, 6, 4])"
            ]
          },
          "metadata": {},
          "execution_count": 69
        }
      ],
      "source": [
        "clf.predict(X_test[:20])\n",
        "\n",
        "# this is looking vary clean based on these first few outputs"
      ]
    },
    {
      "cell_type": "code",
      "execution_count": null,
      "metadata": {
        "tags": [],
        "id": "4cfjxBxnObfh"
      },
      "outputs": [],
      "source": [
        "y_pred=clf.predict(X_train)"
      ]
    },
    {
      "cell_type": "markdown",
      "metadata": {
        "id": "YvhpPIclObfh"
      },
      "source": [
        "#Confusion Matrix"
      ]
    },
    {
      "cell_type": "code",
      "execution_count": null,
      "metadata": {
        "tags": [],
        "colab": {
          "base_uri": "https://localhost:8080/"
        },
        "id": "KQu6K9OpObfh",
        "outputId": "c6a9243e-375f-4c0c-cd9d-2ecfb7114a71"
      },
      "outputs": [
        {
          "output_type": "execute_result",
          "data": {
            "text/plain": [
              "array([[5047,    6,   92,   64,    6,    0,  735,    0,   50,    0],\n",
              "       [   4, 5921,    6,   55,    8,    0,    3,    0,    3,    0],\n",
              "       [  60,    4, 5380,   19,  300,    0,  232,    0,    5,    0],\n",
              "       [ 116,   28,   35, 5472,  212,    0,  134,    0,    3,    0],\n",
              "       [  10,    7,  917,  116, 4663,    0,  284,    0,    3,    0],\n",
              "       [   1,    0,    0,    0,    0, 5972,    0,   20,    6,    1],\n",
              "       [ 660,    3,  668,   67,  223,    0, 4324,    0,   55,    0],\n",
              "       [   0,    0,    0,    0,    0,    0,    0, 5986,    3,   11],\n",
              "       [  18,    3,   43,   23,   26,    0,   30,    0, 5857,    0],\n",
              "       [   0,    1,    0,    0,    0,    4,    0,  129,    2, 5864]])"
            ]
          },
          "metadata": {},
          "execution_count": 72
        }
      ],
      "source": [
        "from sklearn.metrics import confusion_matrix\n",
        "\n",
        "my_cm=confusion_matrix(y_train,y_pred,labels=[0,1,2,3,4,5,6,7,8,9])\n",
        "my_cm"
      ]
    },
    {
      "cell_type": "code",
      "source": [
        "#Heatmap\n",
        "import matplotlib.pyplot as plt\n",
        "plt.matshow(my_cm)\n",
        "plt.show()"
      ],
      "metadata": {
        "colab": {
          "base_uri": "https://localhost:8080/",
          "height": 437
        },
        "id": "I_jh76mEKoJ6",
        "outputId": "a19b4983-a185-4f7e-d44b-cea169d40996"
      },
      "execution_count": null,
      "outputs": [
        {
          "output_type": "display_data",
          "data": {
            "text/plain": [
              "<Figure size 480x480 with 1 Axes>"
            ],
            "image/png": "[encoded data removed]"
          },
          "metadata": {}
        }
      ]
    },
    {
      "cell_type": "markdown",
      "metadata": {
        "id": "sKP4tIXMObfh"
      },
      "source": [
        "add up all the correct predictions"
      ]
    },
    {
      "cell_type": "code",
      "execution_count": null,
      "metadata": {
        "tags": [],
        "colab": {
          "base_uri": "https://localhost:8080/"
        },
        "id": "CXjA1UJ5Obfh",
        "outputId": "a52d1a47-2e43-41d5-e9a7-1aa8a098bb8b"
      },
      "outputs": [
        {
          "output_type": "execute_result",
          "data": {
            "text/plain": [
              "54486"
            ]
          },
          "metadata": {},
          "execution_count": 74
        }
      ],
      "source": [
        "my_cm.trace()"
      ]
    },
    {
      "cell_type": "markdown",
      "metadata": {
        "tags": [],
        "id": "UUu7Gjg6Obfi"
      },
      "source": [
        "Sum everything"
      ]
    },
    {
      "cell_type": "code",
      "execution_count": null,
      "metadata": {
        "tags": [],
        "colab": {
          "base_uri": "https://localhost:8080/"
        },
        "id": "ADcY3jyLObfi",
        "outputId": "5e4db284-b7be-4943-f949-f83a61972825"
      },
      "outputs": [
        {
          "output_type": "execute_result",
          "data": {
            "text/plain": [
              "60000"
            ]
          },
          "metadata": {},
          "execution_count": 75
        }
      ],
      "source": [
        "my_cm.sum()"
      ]
    },
    {
      "cell_type": "markdown",
      "metadata": {
        "id": "ZgCkRtgKObfi"
      },
      "source": [
        "Now we computer the accuracy Accuracy= (sum along the diagonals)/(sum of all cells)"
      ]
    },
    {
      "cell_type": "code",
      "execution_count": null,
      "metadata": {
        "tags": [],
        "colab": {
          "base_uri": "https://localhost:8080/"
        },
        "id": "xU7tk6ucObfi",
        "outputId": "c5b146ee-0d72-432a-a527-1f37dc369433"
      },
      "outputs": [
        {
          "output_type": "execute_result",
          "data": {
            "text/plain": [
              "0.9081"
            ]
          },
          "metadata": {},
          "execution_count": 76
        }
      ],
      "source": [
        "my_cm.trace()/my_cm.sum()"
      ]
    },
    {
      "cell_type": "code",
      "execution_count": null,
      "metadata": {
        "id": "Ob09e54PObfi"
      },
      "outputs": [],
      "source": []
    },
    {
      "cell_type": "markdown",
      "metadata": {
        "id": "V4t07RywObfi"
      },
      "source": [
        "Accuracy of 90% as I increased the size of the hidden layers."
      ]
    },
    {
      "cell_type": "markdown",
      "metadata": {
        "tags": [],
        "id": "hUzJj3FeObfi"
      },
      "source": [
        "#### fclf2- classify everything as either a pullover (2) or not a pullover, this is a binary categorization\n"
      ]
    },
    {
      "cell_type": "code",
      "execution_count": null,
      "metadata": {
        "tags": [],
        "colab": {
          "base_uri": "https://localhost:8080/",
          "height": 2607
        },
        "id": "61VEVAd1Obfi",
        "outputId": "d71ebee6-4ac1-4ab8-8599-26a02a943f66"
      },
      "outputs": [
        {
          "output_type": "stream",
          "name": "stdout",
          "text": [
            "Iteration 1, loss = 0.33152647\n",
            "Iteration 2, loss = 0.17161349\n",
            "Iteration 3, loss = 0.15113460\n",
            "Iteration 4, loss = 0.14102883\n",
            "Iteration 5, loss = 0.13372817\n",
            "Iteration 6, loss = 0.13099708\n",
            "Iteration 7, loss = 0.12559481\n",
            "Iteration 8, loss = 0.12497487\n",
            "Iteration 9, loss = 0.12217216\n",
            "Iteration 10, loss = 0.12399669\n",
            "Iteration 11, loss = 0.12400881\n",
            "Iteration 12, loss = 0.11694571\n",
            "Iteration 13, loss = 0.12049170\n",
            "Iteration 14, loss = 0.11554896\n",
            "Iteration 15, loss = 0.11504019\n",
            "Iteration 16, loss = 0.11585217\n",
            "Iteration 17, loss = 0.11067332\n",
            "Iteration 18, loss = 0.11238504\n",
            "Iteration 19, loss = 0.11160633\n",
            "Iteration 20, loss = 0.11122248\n",
            "Iteration 21, loss = 0.10918764\n",
            "Iteration 22, loss = 0.11131201\n",
            "Iteration 23, loss = 0.10956015\n",
            "Iteration 24, loss = 0.10840050\n",
            "Iteration 25, loss = 0.10640325\n",
            "Iteration 26, loss = 0.10930399\n",
            "Iteration 27, loss = 0.10820456\n",
            "Iteration 28, loss = 0.10477764\n",
            "Iteration 29, loss = 0.10608269\n",
            "Iteration 30, loss = 0.10374945\n",
            "Iteration 31, loss = 0.10535643\n",
            "Iteration 32, loss = 0.10310087\n",
            "Iteration 33, loss = 0.10449555\n",
            "Iteration 34, loss = 0.10225443\n",
            "Iteration 35, loss = 0.10161436\n",
            "Iteration 36, loss = 0.10253789\n",
            "Iteration 37, loss = 0.10156350\n",
            "Iteration 38, loss = 0.09902311\n",
            "Iteration 39, loss = 0.09920910\n",
            "Iteration 40, loss = 0.09874424\n",
            "Iteration 41, loss = 0.09776275\n",
            "Iteration 42, loss = 0.10074844\n",
            "Iteration 43, loss = 0.10310273\n",
            "Iteration 44, loss = 0.09731159\n",
            "Iteration 45, loss = 0.09910075\n",
            "Iteration 46, loss = 0.09966355\n",
            "Iteration 47, loss = 0.09682798\n",
            "Iteration 48, loss = 0.09591319\n",
            "Iteration 49, loss = 0.09747499\n",
            "Iteration 50, loss = 0.09908632\n",
            "Iteration 51, loss = 0.09515244\n",
            "Iteration 52, loss = 0.09369867\n",
            "Iteration 53, loss = 0.09261250\n",
            "Iteration 54, loss = 0.09401035\n",
            "Iteration 55, loss = 0.09223416\n",
            "Iteration 56, loss = 0.09518279\n",
            "Iteration 57, loss = 0.09443433\n",
            "Iteration 58, loss = 0.09355429\n",
            "Iteration 59, loss = 0.09107517\n",
            "Iteration 60, loss = 0.09264840\n",
            "Iteration 61, loss = 0.09262439\n",
            "Iteration 62, loss = 0.09214509\n",
            "Iteration 63, loss = 0.08994946\n",
            "Iteration 64, loss = 0.09192354\n",
            "Iteration 65, loss = 0.08918986\n",
            "Iteration 66, loss = 0.08833911\n",
            "Iteration 67, loss = 0.08743912\n",
            "Iteration 68, loss = 0.08985447\n",
            "Iteration 69, loss = 0.08842975\n",
            "Iteration 70, loss = 0.08655475\n",
            "Iteration 71, loss = 0.08901259\n",
            "Iteration 72, loss = 0.08699165\n",
            "Iteration 73, loss = 0.08867522\n",
            "Iteration 74, loss = 0.08572628\n",
            "Iteration 75, loss = 0.08572075\n",
            "Iteration 76, loss = 0.08527992\n",
            "Iteration 77, loss = 0.08786922\n",
            "Iteration 78, loss = 0.08590756\n",
            "Iteration 79, loss = 0.08516359\n",
            "Iteration 80, loss = 0.08470184\n",
            "Iteration 81, loss = 0.08444050\n",
            "Iteration 82, loss = 0.08454018\n",
            "Iteration 83, loss = 0.08285734\n",
            "Iteration 84, loss = 0.08476819\n",
            "Iteration 85, loss = 0.08281064\n",
            "Iteration 86, loss = 0.08484499\n",
            "Iteration 87, loss = 0.08334495\n",
            "Iteration 88, loss = 0.08446098\n",
            "Iteration 89, loss = 0.08453064\n",
            "Iteration 90, loss = 0.08536418\n",
            "Iteration 91, loss = 0.08264390\n",
            "Iteration 92, loss = 0.07989107\n",
            "Iteration 93, loss = 0.08173352\n",
            "Iteration 94, loss = 0.08087841\n",
            "Iteration 95, loss = 0.08108362\n",
            "Iteration 96, loss = 0.07963252\n",
            "Iteration 97, loss = 0.08174124\n",
            "Iteration 98, loss = 0.08185383\n",
            "Iteration 99, loss = 0.07878595\n",
            "Iteration 100, loss = 0.07952181\n",
            "Iteration 101, loss = 0.08022948\n",
            "Iteration 102, loss = 0.07916108\n",
            "Iteration 103, loss = 0.07921105\n",
            "Iteration 104, loss = 0.07717043\n",
            "Iteration 105, loss = 0.07959943\n",
            "Iteration 106, loss = 0.07716020\n",
            "Iteration 107, loss = 0.07549642\n",
            "Iteration 108, loss = 0.07568700\n",
            "Iteration 109, loss = 0.07439545\n",
            "Iteration 110, loss = 0.07623094\n",
            "Iteration 111, loss = 0.07597674\n",
            "Iteration 112, loss = 0.07625656\n",
            "Iteration 113, loss = 0.07371278\n",
            "Iteration 114, loss = 0.07628979\n",
            "Iteration 115, loss = 0.07459080\n",
            "Iteration 116, loss = 0.07122457\n",
            "Iteration 117, loss = 0.07346776\n",
            "Iteration 118, loss = 0.07485099\n",
            "Iteration 119, loss = 0.07224224\n",
            "Iteration 120, loss = 0.07289476\n",
            "Iteration 121, loss = 0.07119516\n",
            "Iteration 122, loss = 0.07142392\n",
            "Iteration 123, loss = 0.06942276\n",
            "Iteration 124, loss = 0.07120889\n",
            "Iteration 125, loss = 0.07055523\n",
            "Iteration 126, loss = 0.07293400\n",
            "Iteration 127, loss = 0.07198840\n",
            "Iteration 128, loss = 0.07099159\n",
            "Iteration 129, loss = 0.07032805\n",
            "Iteration 130, loss = 0.07031218\n",
            "Iteration 131, loss = 0.07255654\n",
            "Iteration 132, loss = 0.06942990\n",
            "Iteration 133, loss = 0.06749503\n",
            "Iteration 134, loss = 0.07042220\n",
            "Iteration 135, loss = 0.07233699\n",
            "Iteration 136, loss = 0.07066676\n",
            "Iteration 137, loss = 0.06905253\n",
            "Iteration 138, loss = 0.06911568\n",
            "Iteration 139, loss = 0.06954439\n",
            "Iteration 140, loss = 0.06955509\n",
            "Iteration 141, loss = 0.06938016\n",
            "Iteration 142, loss = 0.06793332\n",
            "Iteration 143, loss = 0.06806531\n",
            "Iteration 144, loss = 0.06839155\n",
            "Training loss did not improve more than tol=0.000100 for 10 consecutive epochs. Stopping.\n"
          ]
        },
        {
          "output_type": "execute_result",
          "data": {
            "text/plain": [
              "MLPClassifier(alpha=1e-05, hidden_layer_sizes=(28, 14, 7), max_iter=500,\n",
              "              random_state=1, verbose=True)"
            ],
            "text/html": [
              "<style>#sk-container-id-4 {color: black;background-color: white;}#sk-container-id-4 pre{padding: 0;}#sk-container-id-4 div.sk-toggleable {background-color: white;}#sk-container-id-4 label.sk-toggleable__label {cursor: pointer;display: block;width: 100%;margin-bottom: 0;padding: 0.3em;box-sizing: border-box;text-align: center;}#sk-container-id-4 label.sk-toggleable__label-arrow:before {content: \"▸\";float: left;margin-right: 0.25em;color: #696969;}#sk-container-id-4 label.sk-toggleable__label-arrow:hover:before {color: black;}#sk-container-id-4 div.sk-estimator:hover label.sk-toggleable__label-arrow:before {color: black;}#sk-container-id-4 div.sk-toggleable__content {max-height: 0;max-width: 0;overflow: hidden;text-align: left;background-color: #f0f8ff;}#sk-container-id-4 div.sk-toggleable__content pre {margin: 0.2em;color: black;border-radius: 0.25em;background-color: #f0f8ff;}#sk-container-id-4 input.sk-toggleable__control:checked~div.sk-toggleable__content {max-height: 200px;max-width: 100%;overflow: auto;}#sk-container-id-4 input.sk-toggleable__control:checked~label.sk-toggleable__label-arrow:before {content: \"▾\";}#sk-container-id-4 div.sk-estimator input.sk-toggleable__control:checked~label.sk-toggleable__label {background-color: #d4ebff;}#sk-container-id-4 div.sk-label input.sk-toggleable__control:checked~label.sk-toggleable__label {background-color: #d4ebff;}#sk-container-id-4 input.sk-hidden--visually {border: 0;clip: rect(1px 1px 1px 1px);clip: rect(1px, 1px, 1px, 1px);height: 1px;margin: -1px;overflow: hidden;padding: 0;position: absolute;width: 1px;}#sk-container-id-4 div.sk-estimator {font-family: monospace;background-color: #f0f8ff;border: 1px dotted black;border-radius: 0.25em;box-sizing: border-box;margin-bottom: 0.5em;}#sk-container-id-4 div.sk-estimator:hover {background-color: #d4ebff;}#sk-container-id-4 div.sk-parallel-item::after {content: \"\";width: 100%;border-bottom: 1px solid gray;flex-grow: 1;}#sk-container-id-4 div.sk-label:hover label.sk-toggleable__label {background-color: #d4ebff;}#sk-container-id-4 div.sk-serial::before {content: \"\";position: absolute;border-left: 1px solid gray;box-sizing: border-box;top: 0;bottom: 0;left: 50%;z-index: 0;}#sk-container-id-4 div.sk-serial {display: flex;flex-direction: column;align-items: center;background-color: white;padding-right: 0.2em;padding-left: 0.2em;position: relative;}#sk-container-id-4 div.sk-item {position: relative;z-index: 1;}#sk-container-id-4 div.sk-parallel {display: flex;align-items: stretch;justify-content: center;background-color: white;position: relative;}#sk-container-id-4 div.sk-item::before, #sk-container-id-4 div.sk-parallel-item::before {content: \"\";position: absolute;border-left: 1px solid gray;box-sizing: border-box;top: 0;bottom: 0;left: 50%;z-index: -1;}#sk-container-id-4 div.sk-parallel-item {display: flex;flex-direction: column;z-index: 1;position: relative;background-color: white;}#sk-container-id-4 div.sk-parallel-item:first-child::after {align-self: flex-end;width: 50%;}#sk-container-id-4 div.sk-parallel-item:last-child::after {align-self: flex-start;width: 50%;}#sk-container-id-4 div.sk-parallel-item:only-child::after {width: 0;}#sk-container-id-4 div.sk-dashed-wrapped {border: 1px dashed gray;margin: 0 0.4em 0.5em 0.4em;box-sizing: border-box;padding-bottom: 0.4em;background-color: white;}#sk-container-id-4 div.sk-label label {font-family: monospace;font-weight: bold;display: inline-block;line-height: 1.2em;}#sk-container-id-4 div.sk-label-container {text-align: center;}#sk-container-id-4 div.sk-container {/* jupyter's `normalize.less` sets `[hidden] { display: none; }` but bootstrap.min.css set `[hidden] { display: none !important; }` so we also need the `!important` here to be able to override the default hidden behavior on the sphinx rendered scikit-learn.org. See: https://github.com/scikit-learn/scikit-learn/issues/21755 */display: inline-block !important;position: relative;}#sk-container-id-4 div.sk-text-repr-fallback {display: none;}</style><div id=\"sk-container-id-4\" class=\"sk-top-container\"><div class=\"sk-text-repr-fallback\"><pre>MLPClassifier(alpha=1e-05, hidden_layer_sizes=(28, 14, 7), max_iter=500,\n",
              "              random_state=1, verbose=True)</pre><b>In a Jupyter environment, please rerun this cell to show the HTML representation or trust the notebook. <br />On GitHub, the HTML representation is unable to render, please try loading this page with nbviewer.org.</b></div><div class=\"sk-container\" hidden><div class=\"sk-item\"><div class=\"sk-estimator sk-toggleable\"><input class=\"sk-toggleable__control sk-hidden--visually\" id=\"sk-estimator-id-4\" type=\"checkbox\" checked><label for=\"sk-estimator-id-4\" class=\"sk-toggleable__label sk-toggleable__label-arrow\">MLPClassifier</label><div class=\"sk-toggleable__content\"><pre>MLPClassifier(alpha=1e-05, hidden_layer_sizes=(28, 14, 7), max_iter=500,\n",
              "              random_state=1, verbose=True)</pre></div></div></div></div></div>"
            ]
          },
          "metadata": {},
          "execution_count": 77
        }
      ],
      "source": [
        "from sklearn.neural_network import MLPClassifier\n",
        "clf2 = MLPClassifier(solver='adam', alpha=1e-5, random_state=1, max_iter=500,hidden_layer_sizes=(28,14,7), verbose=True, warm_start=False)\n",
        "\n",
        "clf2.fit(X_train, y_train_2)\n"
      ]
    },
    {
      "cell_type": "code",
      "execution_count": null,
      "metadata": {
        "tags": [],
        "id": "UDvIzLzVObfj"
      },
      "outputs": [],
      "source": [
        "#Testing how well the model works"
      ]
    },
    {
      "cell_type": "code",
      "execution_count": null,
      "metadata": {
        "tags": [],
        "id": "IZCXgqu9Obfj"
      },
      "outputs": [],
      "source": [
        "silent_clf = MLPClassifier(solver='adam',activation='relu', alpha=1e-5, random_state=1, max_iter=500,hidden_layer_sizes=(20,20,5), verbose=False, warm_start=True)"
      ]
    },
    {
      "cell_type": "code",
      "execution_count": null,
      "metadata": {
        "tags": [],
        "id": "2PcrZcnxObfj"
      },
      "outputs": [],
      "source": [
        "#Import cross validation to do the same thing as the multi_group classifier"
      ]
    },
    {
      "cell_type": "code",
      "execution_count": null,
      "metadata": {
        "tags": [],
        "id": "5bliyZaRObfj"
      },
      "outputs": [],
      "source": [
        "from sklearn.model_selection import cross_val_predict\n",
        "\n",
        "y_train_pred = cross_val_predict(silent_clf, X_train, y_train_2, cv=3)"
      ]
    },
    {
      "cell_type": "markdown",
      "metadata": {
        "id": "NHYMPtzfObfj"
      },
      "source": [
        "Get the confusion mattrix"
      ]
    },
    {
      "cell_type": "code",
      "execution_count": null,
      "metadata": {
        "tags": [],
        "colab": {
          "base_uri": "https://localhost:8080/"
        },
        "id": "fG0xaGlgObfj",
        "outputId": "4ed3cbd5-f4f4-4fc0-84b2-f13f55d5be3f"
      },
      "outputs": [
        {
          "output_type": "execute_result",
          "data": {
            "text/plain": [
              "array([[52484,  1516],\n",
              "       [ 1145,  4855]])"
            ]
          },
          "metadata": {},
          "execution_count": 80
        }
      ],
      "source": [
        "from sklearn.metrics import confusion_matrix\n",
        "\n",
        "confusion_matrix(y_train_2,y_train_pred)"
      ]
    },
    {
      "cell_type": "markdown",
      "metadata": {
        "tags": [],
        "id": "4JMC7C13Obfj"
      },
      "source": [
        "Fraction of correct classification"
      ]
    },
    {
      "cell_type": "code",
      "execution_count": null,
      "metadata": {
        "tags": [],
        "colab": {
          "base_uri": "https://localhost:8080/"
        },
        "id": "2LFUginTObfk",
        "outputId": "1e6302da-20bd-4d90-9e16-eff7c621333f"
      },
      "outputs": [
        {
          "output_type": "stream",
          "name": "stdout",
          "text": [
            "0.95565\n"
          ]
        }
      ],
      "source": [
        "n_correct = sum(y_train_pred == y_train_2)\n",
        "print(n_correct / len(y_train_pred))"
      ]
    },
    {
      "cell_type": "markdown",
      "metadata": {
        "id": "ywZK7vZyObfk"
      },
      "source": [
        "from sklearn.metrics import precision_score, recall_score# Action\n",
        "show all the performance measures used in the MNIST digit classifier answer\n",
        "seen in class"
      ]
    },
    {
      "cell_type": "code",
      "execution_count": null,
      "metadata": {
        "colab": {
          "base_uri": "https://localhost:8080/"
        },
        "id": "aV0hmFXiObfk",
        "outputId": "ffb7a059-4023-4472-87b2-f85b3303b506"
      },
      "outputs": [
        {
          "output_type": "stream",
          "name": "stdout",
          "text": [
            "0.7620467744467116\n",
            "0.8091666666666667\n"
          ]
        },
        {
          "output_type": "execute_result",
          "data": {
            "text/plain": [
              "0.784900169751839"
            ]
          },
          "metadata": {},
          "execution_count": 82
        }
      ],
      "source": [
        "from sklearn.metrics import precision_score, recall_score\n",
        "\n",
        "#Precision score binary\n",
        "print(precision_score(y_train_2,y_train_pred))\n",
        "\n",
        "#Recall Score binary\n",
        "\n",
        "print(recall_score(y_train_2, y_train_pred))\n",
        "\n",
        "# F1\n",
        "from sklearn.metrics import f1_score\n",
        "f1_score(y_train_2, y_train_pred)\n",
        "\n",
        "\n",
        "\n",
        "#Multi Group\n",
        "#Precision score\n",
        "\n",
        "\n",
        "\n",
        "#print(precision_score(y_train_2,y_train_pred))\n",
        "\n",
        "#Recall Score\n",
        "\n",
        "#print(recall_score(y_train_2, y_train_pred))"
      ]
    },
    {
      "cell_type": "code",
      "source": [
        "y_scores = cross_val_predict(clf2, X_train, y_train_2, cv=3,\n",
        "                             method=\"predict_proba\")"
      ],
      "metadata": {
        "colab": {
          "base_uri": "https://localhost:8080/"
        },
        "id": "ueD9VIo_9v3h",
        "outputId": "3af4583f-953e-4f49-9909-6f7bd938367d"
      },
      "execution_count": null,
      "outputs": [
        {
          "output_type": "stream",
          "name": "stdout",
          "text": [
            "Iteration 1, loss = 0.43249631\n",
            "Iteration 2, loss = 0.16164563\n",
            "Iteration 3, loss = 0.14417393\n",
            "Iteration 4, loss = 0.13376104\n",
            "Iteration 5, loss = 0.12633499\n",
            "Iteration 6, loss = 0.12994702\n",
            "Iteration 7, loss = 0.12125034\n",
            "Iteration 8, loss = 0.12179675\n",
            "Iteration 9, loss = 0.12060490\n",
            "Iteration 10, loss = 0.11688528\n",
            "Iteration 11, loss = 0.11531744\n",
            "Iteration 12, loss = 0.11522110\n",
            "Iteration 13, loss = 0.11412945\n",
            "Iteration 14, loss = 0.11074945\n",
            "Iteration 15, loss = 0.10985893\n",
            "Iteration 16, loss = 0.10734753\n",
            "Iteration 17, loss = 0.10695205\n",
            "Iteration 18, loss = 0.10624128\n",
            "Iteration 19, loss = 0.10467604\n",
            "Iteration 20, loss = 0.10807539\n",
            "Iteration 21, loss = 0.10831494\n",
            "Iteration 22, loss = 0.10465721\n",
            "Iteration 23, loss = 0.10473355\n",
            "Iteration 24, loss = 0.10300108\n",
            "Iteration 25, loss = 0.10179097\n",
            "Iteration 26, loss = 0.09833465\n",
            "Iteration 27, loss = 0.09875941\n",
            "Iteration 28, loss = 0.09842269\n",
            "Iteration 29, loss = 0.09901449\n",
            "Iteration 30, loss = 0.09716319\n",
            "Iteration 31, loss = 0.09527364\n",
            "Iteration 32, loss = 0.09566552\n",
            "Iteration 33, loss = 0.09521972\n",
            "Iteration 34, loss = 0.09381298\n",
            "Iteration 35, loss = 0.09269918\n",
            "Iteration 36, loss = 0.09261716\n",
            "Iteration 37, loss = 0.09001201\n",
            "Iteration 38, loss = 0.09004859\n",
            "Iteration 39, loss = 0.08977282\n",
            "Iteration 40, loss = 0.08833992\n",
            "Iteration 41, loss = 0.08826957\n",
            "Iteration 42, loss = 0.08859251\n",
            "Iteration 43, loss = 0.08969456\n",
            "Iteration 44, loss = 0.08765409\n",
            "Iteration 45, loss = 0.08808721\n",
            "Iteration 46, loss = 0.08564227\n",
            "Iteration 47, loss = 0.08574329\n",
            "Iteration 48, loss = 0.08284066\n",
            "Iteration 49, loss = 0.08701282\n",
            "Iteration 50, loss = 0.08426783\n",
            "Iteration 51, loss = 0.08712070\n",
            "Iteration 52, loss = 0.08444838\n",
            "Iteration 53, loss = 0.08412404\n",
            "Iteration 54, loss = 0.08205782\n",
            "Iteration 55, loss = 0.08236361\n",
            "Iteration 56, loss = 0.08206422\n",
            "Iteration 57, loss = 0.08084754\n",
            "Iteration 58, loss = 0.07975280\n",
            "Iteration 59, loss = 0.07783345\n",
            "Iteration 60, loss = 0.08112747\n",
            "Iteration 61, loss = 0.08102499\n",
            "Iteration 62, loss = 0.08074008\n",
            "Iteration 63, loss = 0.07783111\n",
            "Iteration 64, loss = 0.07811814\n",
            "Iteration 65, loss = 0.07544484\n",
            "Iteration 66, loss = 0.07492987\n",
            "Iteration 67, loss = 0.07585344\n",
            "Iteration 68, loss = 0.07534180\n",
            "Iteration 69, loss = 0.07541964\n",
            "Iteration 70, loss = 0.07444031\n",
            "Iteration 71, loss = 0.07259460\n",
            "Iteration 72, loss = 0.07830913\n",
            "Iteration 73, loss = 0.07577749\n",
            "Iteration 74, loss = 0.07475818\n",
            "Iteration 75, loss = 0.07157549\n",
            "Iteration 76, loss = 0.07041779\n",
            "Iteration 77, loss = 0.07378269\n",
            "Iteration 78, loss = 0.07086114\n",
            "Iteration 79, loss = 0.07266929\n",
            "Iteration 80, loss = 0.07212583\n",
            "Iteration 81, loss = 0.07324141\n",
            "Iteration 82, loss = 0.06829483\n",
            "Iteration 83, loss = 0.07177421\n",
            "Iteration 84, loss = 0.07256212\n",
            "Iteration 85, loss = 0.07428985\n",
            "Iteration 86, loss = 0.06924861\n",
            "Iteration 87, loss = 0.06907457\n",
            "Iteration 88, loss = 0.06896510\n",
            "Iteration 89, loss = 0.06957997\n",
            "Iteration 90, loss = 0.06894689\n",
            "Iteration 91, loss = 0.07018594\n",
            "Iteration 92, loss = 0.06856400\n",
            "Iteration 93, loss = 0.06679575\n",
            "Iteration 94, loss = 0.06772668\n",
            "Iteration 95, loss = 0.06742302\n",
            "Iteration 96, loss = 0.06756913\n",
            "Iteration 97, loss = 0.06638866\n",
            "Iteration 98, loss = 0.06582958\n",
            "Iteration 99, loss = 0.06532889\n",
            "Iteration 100, loss = 0.06562890\n",
            "Iteration 101, loss = 0.06959429\n",
            "Iteration 102, loss = 0.06556843\n",
            "Iteration 103, loss = 0.06443928\n",
            "Iteration 104, loss = 0.06338390\n",
            "Iteration 105, loss = 0.06520040\n",
            "Iteration 106, loss = 0.06481440\n",
            "Iteration 107, loss = 0.06151865\n",
            "Iteration 108, loss = 0.06244771\n",
            "Iteration 109, loss = 0.06432479\n",
            "Iteration 110, loss = 0.06437346\n",
            "Iteration 111, loss = 0.06273867\n",
            "Iteration 112, loss = 0.06372632\n",
            "Iteration 113, loss = 0.06280710\n",
            "Iteration 114, loss = 0.06180369\n",
            "Iteration 115, loss = 0.06074704\n",
            "Iteration 116, loss = 0.06163459\n",
            "Iteration 117, loss = 0.06041897\n",
            "Iteration 118, loss = 0.05899469\n",
            "Iteration 119, loss = 0.06226125\n",
            "Iteration 120, loss = 0.06077810\n",
            "Iteration 121, loss = 0.06197306\n",
            "Iteration 122, loss = 0.06122918\n",
            "Iteration 123, loss = 0.06288483\n",
            "Iteration 124, loss = 0.06068103\n",
            "Iteration 125, loss = 0.05996551\n",
            "Iteration 126, loss = 0.06006684\n",
            "Iteration 127, loss = 0.05730984\n",
            "Iteration 128, loss = 0.05630896\n",
            "Iteration 129, loss = 0.06532132\n",
            "Iteration 130, loss = 0.06179318\n",
            "Iteration 131, loss = 0.06119414\n",
            "Iteration 132, loss = 0.05796066\n",
            "Iteration 133, loss = 0.06322680\n",
            "Iteration 134, loss = 0.05687995\n",
            "Iteration 135, loss = 0.05710969\n",
            "Iteration 136, loss = 0.05724452\n",
            "Iteration 137, loss = 0.05893549\n",
            "Iteration 138, loss = 0.05780603\n",
            "Iteration 139, loss = 0.05833082\n",
            "Training loss did not improve more than tol=0.000100 for 10 consecutive epochs. Stopping.\n",
            "Iteration 1, loss = 0.44268963\n",
            "Iteration 2, loss = 0.15767688\n",
            "Iteration 3, loss = 0.14224262\n",
            "Iteration 4, loss = 0.13483636\n",
            "Iteration 5, loss = 0.13060669\n",
            "Iteration 6, loss = 0.12730211\n",
            "Iteration 7, loss = 0.12490134\n",
            "Iteration 8, loss = 0.12401171\n",
            "Iteration 9, loss = 0.12061005\n",
            "Iteration 10, loss = 0.11788101\n",
            "Iteration 11, loss = 0.11623798\n",
            "Iteration 12, loss = 0.11830344\n",
            "Iteration 13, loss = 0.11563432\n",
            "Iteration 14, loss = 0.11536668\n",
            "Iteration 15, loss = 0.11230227\n",
            "Iteration 16, loss = 0.11819689\n",
            "Iteration 17, loss = 0.10881809\n",
            "Iteration 18, loss = 0.11078301\n",
            "Iteration 19, loss = 0.10439628\n",
            "Iteration 20, loss = 0.10751629\n",
            "Iteration 21, loss = 0.10681401\n",
            "Iteration 22, loss = 0.10325003\n",
            "Iteration 23, loss = 0.10293796\n",
            "Iteration 24, loss = 0.10801625\n",
            "Iteration 25, loss = 0.10576169\n",
            "Iteration 26, loss = 0.10094043\n",
            "Iteration 27, loss = 0.09821945\n",
            "Iteration 28, loss = 0.10265177\n",
            "Iteration 29, loss = 0.09936623\n",
            "Iteration 30, loss = 0.09702778\n",
            "Iteration 31, loss = 0.09612883\n",
            "Iteration 32, loss = 0.09975923\n",
            "Iteration 33, loss = 0.10159656\n",
            "Iteration 34, loss = 0.09862279\n",
            "Iteration 35, loss = 0.09718282\n",
            "Iteration 36, loss = 0.09707457\n",
            "Iteration 37, loss = 0.09533079\n",
            "Iteration 38, loss = 0.09490079\n",
            "Iteration 39, loss = 0.09074703\n",
            "Iteration 40, loss = 0.09724358\n",
            "Iteration 41, loss = 0.09195239\n",
            "Iteration 42, loss = 0.09339005\n",
            "Iteration 43, loss = 0.09188291\n",
            "Iteration 44, loss = 0.08991269\n",
            "Iteration 45, loss = 0.09232884\n",
            "Iteration 46, loss = 0.08936649\n",
            "Iteration 47, loss = 0.08914854\n",
            "Iteration 48, loss = 0.08923117\n",
            "Iteration 49, loss = 0.08775657\n",
            "Iteration 50, loss = 0.08988806\n",
            "Iteration 51, loss = 0.08795033\n",
            "Iteration 52, loss = 0.08937827\n",
            "Iteration 53, loss = 0.08475502\n",
            "Iteration 54, loss = 0.08719188\n",
            "Iteration 55, loss = 0.09245032\n",
            "Iteration 56, loss = 0.08641192\n",
            "Iteration 57, loss = 0.08530056\n",
            "Iteration 58, loss = 0.09126174\n",
            "Iteration 59, loss = 0.08617502\n",
            "Iteration 60, loss = 0.08321009\n",
            "Iteration 61, loss = 0.08303255\n",
            "Iteration 62, loss = 0.08225643\n",
            "Iteration 63, loss = 0.08226426\n",
            "Iteration 64, loss = 0.08928909\n",
            "Iteration 65, loss = 0.08101936\n",
            "Iteration 66, loss = 0.08180634\n",
            "Iteration 67, loss = 0.08354990\n",
            "Iteration 68, loss = 0.08101710\n",
            "Iteration 69, loss = 0.07966241\n",
            "Iteration 70, loss = 0.08129852\n",
            "Iteration 71, loss = 0.08012093\n",
            "Iteration 72, loss = 0.08119902\n",
            "Iteration 73, loss = 0.07696930\n",
            "Iteration 74, loss = 0.08058176\n",
            "Iteration 75, loss = 0.08108856\n",
            "Iteration 76, loss = 0.07765037\n",
            "Iteration 77, loss = 0.08893606\n",
            "Iteration 78, loss = 0.07958387\n",
            "Iteration 79, loss = 0.08351974\n",
            "Iteration 80, loss = 0.08722313\n",
            "Iteration 81, loss = 0.08063036\n",
            "Iteration 82, loss = 0.07704773\n",
            "Iteration 83, loss = 0.07603920\n",
            "Iteration 84, loss = 0.07881772\n",
            "Iteration 85, loss = 0.07520008\n",
            "Iteration 86, loss = 0.07596455\n",
            "Iteration 87, loss = 0.07758488\n",
            "Iteration 88, loss = 0.07390182\n",
            "Iteration 89, loss = 0.07509806\n",
            "Iteration 90, loss = 0.07317563\n",
            "Iteration 91, loss = 0.07675128\n",
            "Iteration 92, loss = 0.07466015\n",
            "Iteration 93, loss = 0.07502234\n",
            "Iteration 94, loss = 0.07539360\n",
            "Iteration 95, loss = 0.07261516\n",
            "Iteration 96, loss = 0.07549967\n",
            "Iteration 97, loss = 0.08499622\n",
            "Iteration 98, loss = 0.07734451\n",
            "Iteration 99, loss = 0.07819483\n",
            "Iteration 100, loss = 0.07271044\n",
            "Iteration 101, loss = 0.07332773\n",
            "Iteration 102, loss = 0.07191630\n",
            "Iteration 103, loss = 0.07024985\n",
            "Iteration 104, loss = 0.07452294\n",
            "Iteration 105, loss = 0.07388366\n",
            "Iteration 106, loss = 0.07651458\n",
            "Iteration 107, loss = 0.06986687\n",
            "Iteration 108, loss = 0.07012914\n",
            "Iteration 109, loss = 0.06810230\n",
            "Iteration 110, loss = 0.07224002\n",
            "Iteration 111, loss = 0.07167435\n",
            "Iteration 112, loss = 0.07234839\n",
            "Iteration 113, loss = 0.06849735\n",
            "Iteration 114, loss = 0.06992190\n",
            "Iteration 115, loss = 0.06788028\n",
            "Iteration 116, loss = 0.07250719\n",
            "Iteration 117, loss = 0.06889873\n",
            "Iteration 118, loss = 0.06723496\n",
            "Iteration 119, loss = 0.06894178\n",
            "Iteration 120, loss = 0.07301330\n",
            "Iteration 121, loss = 0.07051698\n",
            "Iteration 122, loss = 0.06803291\n",
            "Iteration 123, loss = 0.07124892\n",
            "Iteration 124, loss = 0.07520417\n",
            "Iteration 125, loss = 0.07006056\n",
            "Iteration 126, loss = 0.06915624\n",
            "Iteration 127, loss = 0.06884401\n",
            "Iteration 128, loss = 0.06785771\n",
            "Iteration 129, loss = 0.06713582\n",
            "Training loss did not improve more than tol=0.000100 for 10 consecutive epochs. Stopping.\n",
            "Iteration 1, loss = 0.43917443\n",
            "Iteration 2, loss = 0.17459085\n",
            "Iteration 3, loss = 0.15283754\n",
            "Iteration 4, loss = 0.14030890\n",
            "Iteration 5, loss = 0.13235937\n",
            "Iteration 6, loss = 0.12723095\n",
            "Iteration 7, loss = 0.12130584\n",
            "Iteration 8, loss = 0.11828551\n",
            "Iteration 9, loss = 0.11642485\n",
            "Iteration 10, loss = 0.11422811\n",
            "Iteration 11, loss = 0.11324301\n",
            "Iteration 12, loss = 0.11231087\n",
            "Iteration 13, loss = 0.10965236\n",
            "Iteration 14, loss = 0.10548198\n",
            "Iteration 15, loss = 0.10496361\n",
            "Iteration 16, loss = 0.10159056\n",
            "Iteration 17, loss = 0.09998656\n",
            "Iteration 18, loss = 0.10380645\n",
            "Iteration 19, loss = 0.10013142\n",
            "Iteration 20, loss = 0.09729550\n",
            "Iteration 21, loss = 0.09842358\n",
            "Iteration 22, loss = 0.09660353\n",
            "Iteration 23, loss = 0.09319911\n",
            "Iteration 24, loss = 0.09368904\n",
            "Iteration 25, loss = 0.09384041\n",
            "Iteration 26, loss = 0.09110548\n",
            "Iteration 27, loss = 0.09199763\n",
            "Iteration 28, loss = 0.09007049\n",
            "Iteration 29, loss = 0.09085651\n",
            "Iteration 30, loss = 0.08998927\n",
            "Iteration 31, loss = 0.09208888\n",
            "Iteration 32, loss = 0.09035250\n",
            "Iteration 33, loss = 0.09289944\n",
            "Iteration 34, loss = 0.08626202\n",
            "Iteration 35, loss = 0.08421344\n",
            "Iteration 36, loss = 0.08992927\n",
            "Iteration 37, loss = 0.08356255\n",
            "Iteration 38, loss = 0.08739251\n",
            "Iteration 39, loss = 0.09003292\n",
            "Iteration 40, loss = 0.08815914\n",
            "Iteration 41, loss = 0.08522018\n",
            "Iteration 42, loss = 0.09059338\n",
            "Iteration 43, loss = 0.08420079\n",
            "Iteration 44, loss = 0.08130804\n",
            "Iteration 45, loss = 0.08061869\n",
            "Iteration 46, loss = 0.08267426\n",
            "Iteration 47, loss = 0.08331593\n",
            "Iteration 48, loss = 0.07955330\n",
            "Iteration 49, loss = 0.07964667\n",
            "Iteration 50, loss = 0.08043650\n",
            "Iteration 51, loss = 0.07956757\n",
            "Iteration 52, loss = 0.08261783\n",
            "Iteration 53, loss = 0.07883278\n",
            "Iteration 54, loss = 0.08155018\n",
            "Iteration 55, loss = 0.08017742\n",
            "Iteration 56, loss = 0.07865698\n",
            "Iteration 57, loss = 0.07739598\n",
            "Iteration 58, loss = 0.07814972\n",
            "Iteration 59, loss = 0.07773701\n",
            "Iteration 60, loss = 0.07656106\n",
            "Iteration 61, loss = 0.07412289\n",
            "Iteration 62, loss = 0.07384815\n",
            "Iteration 63, loss = 0.07498528\n",
            "Iteration 64, loss = 0.07766341\n",
            "Iteration 65, loss = 0.07437205\n",
            "Iteration 66, loss = 0.07247486\n",
            "Iteration 67, loss = 0.07193145\n",
            "Iteration 68, loss = 0.07909193\n",
            "Iteration 69, loss = 0.07368185\n",
            "Iteration 70, loss = 0.07041849\n",
            "Iteration 71, loss = 0.07592337\n",
            "Iteration 72, loss = 0.07321187\n",
            "Iteration 73, loss = 0.07474143\n",
            "Iteration 74, loss = 0.07204428\n",
            "Iteration 75, loss = 0.07374104\n",
            "Iteration 76, loss = 0.06881383\n",
            "Iteration 77, loss = 0.07087028\n",
            "Iteration 78, loss = 0.07043172\n",
            "Iteration 79, loss = 0.06893292\n",
            "Iteration 80, loss = 0.06744466\n",
            "Iteration 81, loss = 0.07033688\n",
            "Iteration 82, loss = 0.06796050\n",
            "Iteration 83, loss = 0.06861827\n",
            "Iteration 84, loss = 0.06810827\n",
            "Iteration 85, loss = 0.06816717\n",
            "Iteration 86, loss = 0.06722704\n",
            "Iteration 87, loss = 0.06345571\n",
            "Iteration 88, loss = 0.06724535\n",
            "Iteration 89, loss = 0.06674669\n",
            "Iteration 90, loss = 0.06663698\n",
            "Iteration 91, loss = 0.06851118\n",
            "Iteration 92, loss = 0.06484172\n",
            "Iteration 93, loss = 0.06634592\n",
            "Iteration 94, loss = 0.06539022\n",
            "Iteration 95, loss = 0.06867486\n",
            "Iteration 96, loss = 0.06150902\n",
            "Iteration 97, loss = 0.06091265\n",
            "Iteration 98, loss = 0.06403464\n",
            "Iteration 99, loss = 0.06734213\n",
            "Iteration 100, loss = 0.06054349\n",
            "Iteration 101, loss = 0.06214333\n",
            "Iteration 102, loss = 0.05982194\n",
            "Iteration 103, loss = 0.06019965\n",
            "Iteration 104, loss = 0.06078993\n",
            "Iteration 105, loss = 0.05947618\n",
            "Iteration 106, loss = 0.06161618\n",
            "Iteration 107, loss = 0.05992462\n",
            "Iteration 108, loss = 0.05956563\n",
            "Iteration 109, loss = 0.06108409\n",
            "Iteration 110, loss = 0.05951509\n",
            "Iteration 111, loss = 0.05945800\n",
            "Iteration 112, loss = 0.05655967\n",
            "Iteration 113, loss = 0.05784795\n",
            "Iteration 114, loss = 0.06189005\n",
            "Iteration 115, loss = 0.05671205\n",
            "Iteration 116, loss = 0.05518294\n",
            "Iteration 117, loss = 0.05638035\n",
            "Iteration 118, loss = 0.05877867\n",
            "Iteration 119, loss = 0.05900164\n",
            "Iteration 120, loss = 0.05871186\n",
            "Iteration 121, loss = 0.05691848\n",
            "Iteration 122, loss = 0.05694358\n",
            "Iteration 123, loss = 0.05464538\n",
            "Iteration 124, loss = 0.05540512\n",
            "Iteration 125, loss = 0.05648246\n",
            "Iteration 126, loss = 0.05748399\n",
            "Iteration 127, loss = 0.05625556\n",
            "Iteration 128, loss = 0.05742653\n",
            "Iteration 129, loss = 0.05375491\n",
            "Iteration 130, loss = 0.05690617\n",
            "Iteration 131, loss = 0.05421513\n",
            "Iteration 132, loss = 0.05758323\n",
            "Iteration 133, loss = 0.05279493\n",
            "Iteration 134, loss = 0.05180295\n",
            "Iteration 135, loss = 0.05386430\n",
            "Iteration 136, loss = 0.05484135\n",
            "Iteration 137, loss = 0.06635445\n",
            "Iteration 138, loss = 0.05679234\n",
            "Iteration 139, loss = 0.05922675\n",
            "Iteration 140, loss = 0.05999864\n",
            "Iteration 141, loss = 0.05192673\n",
            "Iteration 142, loss = 0.05112176\n",
            "Iteration 143, loss = 0.05148466\n",
            "Iteration 144, loss = 0.05510470\n",
            "Iteration 145, loss = 0.04880725\n",
            "Iteration 146, loss = 0.05108049\n",
            "Iteration 147, loss = 0.05003214\n",
            "Iteration 148, loss = 0.05185616\n",
            "Iteration 149, loss = 0.05170106\n",
            "Iteration 150, loss = 0.04961976\n",
            "Iteration 151, loss = 0.05169553\n",
            "Iteration 152, loss = 0.05100017\n",
            "Iteration 153, loss = 0.05179447\n",
            "Iteration 154, loss = 0.05042182\n",
            "Iteration 155, loss = 0.04942131\n",
            "Iteration 156, loss = 0.05294189\n",
            "Training loss did not improve more than tol=0.000100 for 10 consecutive epochs. Stopping.\n"
          ]
        }
      ]
    },
    {
      "cell_type": "code",
      "source": [
        "#Precision-recall curve\n",
        "\n",
        "from sklearn.metrics import precision_recall_curve\n",
        "\n",
        "precisions, recalls, thresholds = precision_recall_curve(y_train_2, y_scores[:,1])"
      ],
      "metadata": {
        "id": "bQ5ZAaDiaDkQ"
      },
      "execution_count": null,
      "outputs": []
    },
    {
      "cell_type": "code",
      "source": [
        "def plot_precision_recall_vs_threshold(precisions, recalls, thresholds):\n",
        "    plt.plot(thresholds, precisions[:-1], \"b--\", label=\"Precision\")\n",
        "    plt.plot(thresholds, recalls[:-1], \"g-\", label=\"Recall\")\n",
        "    plt.legend()\n",
        "    plt.grid()\n",
        "    plt.ylabel(\"precsion/recall\")\n",
        "    plt.xlabel(\"Threshold\")\n",
        "    [...] # highlight the threshold and add the legend, axis label, and grid\n",
        "\n",
        "plot_precision_recall_vs_threshold(precisions, recalls, thresholds)\n",
        "plt.show()"
      ],
      "metadata": {
        "colab": {
          "base_uri": "https://localhost:8080/",
          "height": 449
        },
        "id": "rT0Hp8nkb_Z0",
        "outputId": "a23e943c-5129-433e-f67b-79640789003f"
      },
      "execution_count": null,
      "outputs": [
        {
          "output_type": "display_data",
          "data": {
            "text/plain": [
              "<Figure size 640x480 with 1 Axes>"
            ],
            "image/png": "[encoded data removed]"
          },
          "metadata": {}
        }
      ]
    },
    {
      "cell_type": "markdown",
      "source": [
        "### The receiver-operator curve"
      ],
      "metadata": {
        "id": "lu4lUngvcbwl"
      }
    },
    {
      "cell_type": "code",
      "source": [
        "from sklearn.metrics import roc_curve\n",
        "\n",
        "fpr, tpr, thresholds = roc_curve(y_train_2, y_scores[:,1])"
      ],
      "metadata": {
        "id": "0O9OgLmzcXMH"
      },
      "execution_count": null,
      "outputs": []
    },
    {
      "cell_type": "code",
      "source": [
        "def plot_roc_curve(fpr, tpr, label=None):\n",
        "    plt.plot(fpr, tpr, linewidth=2, label=\"ML Model\")\n",
        "    plt.plot([0, 1], [0, 1], 'k--',label=\"Chance\") # Dashed diagonal\n",
        "    plt.legend() # Add axis labels and grid\n",
        "    plt.grid()\n",
        "    plt.ylabel(\"True Positive Rate\")\n",
        "    plt.xlabel(\"False Positive Rate\")\n",
        "\n",
        "plot_roc_curve(fpr, tpr)\n",
        "plt.show()"
      ],
      "metadata": {
        "colab": {
          "base_uri": "https://localhost:8080/",
          "height": 449
        },
        "id": "3ifNADI-cn6v",
        "outputId": "731f13bf-74e1-469e-8f1d-1966e24b27f8"
      },
      "execution_count": null,
      "outputs": [
        {
          "output_type": "display_data",
          "data": {
            "text/plain": [
              "<Figure size 640x480 with 1 Axes>"
            ],
            "image/png": "[encoded data removed]"
          },
          "metadata": {}
        }
      ]
    },
    {
      "cell_type": "code",
      "source": [
        "from sklearn.metrics import roc_auc_score\n",
        "roc_auc_score(y_train_2, y_scores[:,1])"
      ],
      "metadata": {
        "colab": {
          "base_uri": "https://localhost:8080/"
        },
        "id": "XaAukRY7cwqm",
        "outputId": "55a386e2-374a-42b4-e15d-1e5b8fc6fa1c"
      },
      "execution_count": null,
      "outputs": [
        {
          "output_type": "execute_result",
          "data": {
            "text/plain": [
              "0.9746333580246912"
            ]
          },
          "metadata": {},
          "execution_count": 90
        }
      ]
    }
  ],
  "metadata": {
    "kernelspec": {
      "display_name": "Python 3 (ipykernel)",
      "language": "python",
      "name": "python3"
    },
    "language_info": {
      "codemirror_mode": {
        "name": "ipython",
        "version": 3
      },
      "file_extension": ".py",
      "mimetype": "text/x-python",
      "name": "python",
      "nbconvert_exporter": "python",
      "pygments_lexer": "ipython3",
      "version": "3.11.5"
    },
    "colab": {
      "provenance": []
    }
  },
  "nbformat": 4,
  "nbformat_minor": 0
}